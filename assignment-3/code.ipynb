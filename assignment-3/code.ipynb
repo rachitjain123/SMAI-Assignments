{
 "cells": [
  {
   "cell_type": "code",
   "execution_count": 426,
   "metadata": {},
   "outputs": [],
   "source": [
    "import csv\n",
    "import random\n",
    "import math\n",
    "import numpy as np \n",
    "import operator\n",
    "import pandas as pd\n",
    "from sklearn.model_selection import train_test_split\n",
    "from scipy.spatial import distance\n",
    "from sklearn.metrics import confusion_matrix\n",
    "from collections import Counter\n",
    "from sklearn.metrics import accuracy_score, f1_score, precision_score,recall_score\n",
    "from collections import defaultdict\n",
    "from sklearn.mixture import GaussianMixture \n",
    "from sklearn.cluster import AgglomerativeClustering\n",
    "from numpy import linalg as LA\n",
    "from sklearn import metrics\n",
    "\n",
    "import matplotlib.pyplot as plt\n",
    "from matplotlib import style\n",
    "import re\n",
    "import seaborn as sns\n",
    "from scipy import optimize as op\n",
    "%matplotlib inline"
   ]
  },
  {
   "cell_type": "code",
   "execution_count": 271,
   "metadata": {},
   "outputs": [],
   "source": [
    "def split_dataset(data,val):\n",
    "    X = data.loc[1:, data.columns != val]\n",
    "    Y = data.loc[1:, val]\n",
    "    X_train, X_test, Y_train, Y_test = train_test_split(  X, Y, test_size = 0.25,shuffle=True)\n",
    "    return X, Y, X_train, X_test, Y_train, Y_test"
   ]
  },
  {
   "cell_type": "code",
   "execution_count": 215,
   "metadata": {},
   "outputs": [],
   "source": [
    "class KNN():\n",
    "    def predict(self, inputs, k):\n",
    "        predictions = []\n",
    "        for i in range(len(inputs)):\n",
    "            row = inputs[i]\n",
    "            label = self.closest(row,k)\n",
    "            predictions.append(label)\n",
    "        return predictions\n",
    "\n",
    "    def fit(self, X_train, Y_train):\n",
    "        self.Y_train = Y_train\n",
    "        self.X_train = X_train\n",
    "    \n",
    "    def euclid_dist(self, x, y):\n",
    "        return distance.euclidean(x,y)\n",
    "    \n",
    "    def manhattan_dist(self, x, y):\n",
    "        return distance.cityblock(x,y)\n",
    "    \n",
    "    def cosine_dist(self, x, y):\n",
    "        return distance.cosine(x,y)\n",
    "    \n",
    "\n",
    "    def closest(self, row, k):\n",
    "        dists = []\n",
    "        l1 = len(self.X_train)\n",
    "        for i in range(l1):\n",
    "            dists.append((i,self.euclid_dist(self.X_train[i],row)))\n",
    "        k_labels = []\n",
    "        dists = sorted(dists, key=lambda x:x[1])[0:k]\n",
    "        for i in range(k):\n",
    "            val = self.Y_train[dists[i][0]]\n",
    "            k_labels.append(val)\n",
    "        c = Counter(k_labels)\n",
    "        return c.most_common()[0][0]"
   ]
  },
  {
   "cell_type": "markdown",
   "metadata": {},
   "source": [
    "# Question 1"
   ]
  },
  {
   "cell_type": "markdown",
   "metadata": {},
   "source": [
    "## Part 1"
   ]
  },
  {
   "cell_type": "code",
   "execution_count": 487,
   "metadata": {},
   "outputs": [],
   "source": [
    "def data_standardize(X):\n",
    "    mean, std = [], []\n",
    "    l1 = len(X[0])\n",
    "    for i in range(l1):\n",
    "        std.append(np.std(X[:, i]))\n",
    "        mean.append(np.mean(X[:, i]))\n",
    "    mean_new = []\n",
    "    for row in X:\n",
    "        l1 = len(row)\n",
    "        for i in range(l1):\n",
    "            diff = row[i]-mean[i]\n",
    "            row[i] = float(float(diff)/float(std[i]))\n",
    "    for i in range(l1):\n",
    "        X_mean = np.mean(X[:, i])\n",
    "        mean_new.append(X_mean)\n",
    "    return X, mean_new"
   ]
  },
  {
   "cell_type": "code",
   "execution_count": 488,
   "metadata": {},
   "outputs": [],
   "source": [
    "def pca(X):\n",
    "    Xstd, mean_new = data_standardize(X)\n",
    "    Xstd = Xstd - mean_new\n",
    "    tmp = Xstd.T.astype(float)\n",
    "    Xv = np.cov(tmp)\n",
    "    val, vec = LA.eig(Xv)\n",
    "    l1 = len(val)\n",
    "    ts, s, arr, d = sum(val), 0.0, [], 0\n",
    "    for i in range(l1):\n",
    "        s += val[i]\n",
    "        arr.append(vec[i])\n",
    "        var = s/float(ts)\n",
    "        if var > 0.9:\n",
    "            break\n",
    "    arr = np.transpose(arr)\n",
    "    Xfinal = np.dot(Xstd, arr)\n",
    "    return Xfinal"
   ]
  },
  {
   "cell_type": "code",
   "execution_count": 489,
   "metadata": {},
   "outputs": [
    {
     "name": "stdout",
     "output_type": "stream",
     "text": [
      "(24997, 14)\n"
     ]
    }
   ],
   "source": [
    "data = pd.read_csv('q1.csv', ',')\n",
    "\n",
    "data = data.loc[1:, :]\n",
    "\n",
    "X = data.values[:, :-1]\n",
    "Y = data.values[:, -1]\n",
    "\n",
    "X = X.astype(float)\n",
    "Xfinal = pca(X)\n",
    "print(Xfinal.shape)"
   ]
  },
  {
   "cell_type": "code",
   "execution_count": 490,
   "metadata": {},
   "outputs": [],
   "source": [
    "def purity_score(y_true, y_pred):\n",
    "    contingency_matrix = metrics.cluster.contingency_matrix(y_true, y_pred)\n",
    "    c1 = np.amax(contingency_matrix, axis=0)\n",
    "    return np.sum(c1) / np.sum(contingency_matrix)"
   ]
  },
  {
   "cell_type": "markdown",
   "metadata": {},
   "source": [
    "## Part 2"
   ]
  },
  {
   "cell_type": "code",
   "execution_count": 491,
   "metadata": {},
   "outputs": [],
   "source": [
    "def kmeans(Xfinal, k = 5, max_iter = 10):\n",
    "    centroids = {}\n",
    "    for i in range(k):\n",
    "        centroids[i] = Xfinal[i][:-1]\n",
    "    o_cls = {}\n",
    "    for i in range(max_iter):\n",
    "        n_classifications = {}\n",
    "        for i in range(k):\n",
    "            n_classifications[i] = []\n",
    "        \n",
    "        for row in Xfinal:\n",
    "            dist = [np.linalg.norm(row[:-1] - centroids[i]) for i in centroids]\n",
    "            _class = dist.index(min(dist))\n",
    "            n_classifications[_class].append(row)\n",
    "        \n",
    "        prev = dict(centroids)\n",
    "        \n",
    "        for cls in n_classifications:\n",
    "            tt = n_classifications[cls]\n",
    "            tt = np.asarray(tt)\n",
    "            centroids[cls] = np.average(tt[:, :-1], axis=0)\n",
    "        o_cls = n_classifications\n",
    "        \n",
    "    return centroids, o_cls"
   ]
  },
  {
   "cell_type": "code",
   "execution_count": 492,
   "metadata": {},
   "outputs": [],
   "source": [
    "def predict_kmeans(centroids, row):\n",
    "    dist = [np.linalg.norm(row - centroids[i]) for i in centroids]\n",
    "    classification = dist.index(min(dist))\n",
    "    return classification"
   ]
  },
  {
   "cell_type": "code",
   "execution_count": 493,
   "metadata": {},
   "outputs": [],
   "source": [
    "def kmeansClustering(X_train, X_test, Y_train, Y_test):\n",
    "    dataset = np.column_stack([X_train, Y_train])\n",
    "    test = np.column_stack([X_test, Y_test])\n",
    "    dataset[:, :-1] = dataset[:, :-1].astype(float)\n",
    "    centroids, classifications = kmeans(dataset)\n",
    "    \n",
    "    Y_pred = []\n",
    "\n",
    "    correct = 0\n",
    "\n",
    "    for i in range(len(X_test)):\n",
    "        cls = predict_kmeans(centroids, X_test[i])\n",
    "        outcomes = [tmp[-1] for tmp in classifications[cls]]\n",
    "        tt = max(set(outcomes), key=outcomes.count)\n",
    "        Y_pred.append(tt)\n",
    "        if tt == Y_test[i]:\n",
    "            correct += 1\n",
    "    \n",
    "    \n",
    "    score = purity_score(Y_test, Y_pred)\n",
    "    \n",
    "    print(\"Purity of Clusters using K Means\")\n",
    "    print(score)"
   ]
  },
  {
   "cell_type": "code",
   "execution_count": 494,
   "metadata": {},
   "outputs": [
    {
     "name": "stdout",
     "output_type": "stream",
     "text": [
      "Purity of Clusters using K Means\n",
      "0.84352\n"
     ]
    }
   ],
   "source": [
    "X_train, X_test, Y_train, Y_test = train_test_split(X, Y, test_size = 0.25,shuffle=True)\n",
    "kmeansClustering(X_train, X_test, Y_train, Y_test)"
   ]
  },
  {
   "cell_type": "markdown",
   "metadata": {},
   "source": [
    "## Part 3"
   ]
  },
  {
   "cell_type": "code",
   "execution_count": 497,
   "metadata": {},
   "outputs": [],
   "source": [
    "def GMM(X_train, X_test, Y_train, Y_test):\n",
    "    gmm = GaussianMixture(n_components = 5)\n",
    "\n",
    "    gmm.fit(X_train)\n",
    "\n",
    "    Y_pred = gmm.predict(X_test)\n",
    "    score = purity_score(Y_test, Y_pred)\n",
    "    \n",
    "    print(\"Purity of clusters using GMM: \")\n",
    "    print(score)"
   ]
  },
  {
   "cell_type": "code",
   "execution_count": 498,
   "metadata": {},
   "outputs": [
    {
     "name": "stdout",
     "output_type": "stream",
     "text": [
      "Purity of clusters using GMM: \n",
      "0.79248\n"
     ]
    }
   ],
   "source": [
    "X_train, X_test, Y_train, Y_test = train_test_split(X, Y, test_size = 0.25,shuffle=True)\n",
    "GMM(X_train, X_test, Y_train, Y_test)"
   ]
  },
  {
   "cell_type": "markdown",
   "metadata": {},
   "source": [
    "## Part 4"
   ]
  },
  {
   "cell_type": "code",
   "execution_count": 495,
   "metadata": {},
   "outputs": [],
   "source": [
    "def HierarchicalClustering(dataset, labeled_arr):\n",
    "    purity = []\n",
    "    H_Model = AgglomerativeClustering(n_clusters=5, affinity='euclidean', linkage='single')\n",
    "    out = H_Model.fit_predict(dataset)\n",
    "    unique_out = set(out)\n",
    "    for outs in unique_out:\n",
    "        check_arr = []\n",
    "        for j in range(len(dataset)):\n",
    "            if out[j] == outs:\n",
    "                check_arr.append(labeled_arr[j])\n",
    "        unique_arr = set(check_arr)\n",
    "        max_count = 0\n",
    "        for label in unique_arr:\n",
    "            max_count = max(max_count, check_arr.count(label))\n",
    "        purity.append(float(max_count)/float(len(check_arr)))\n",
    "    print(purity)"
   ]
  },
  {
   "cell_type": "code",
   "execution_count": 496,
   "metadata": {},
   "outputs": [
    {
     "name": "stdout",
     "output_type": "stream",
     "text": [
      "[1.0, 0.5344565391387867, 1.0, 1.0, 1.0]\n"
     ]
    }
   ],
   "source": [
    "HierarchicalClustering(Xfinal, Y)"
   ]
  },
  {
   "cell_type": "markdown",
   "metadata": {},
   "source": [
    "## Part 5"
   ]
  },
  {
   "cell_type": "markdown",
   "metadata": {},
   "source": [
    "Technically PCA can be used on categorical data but it won’t yield proper results. \n",
    "PCA is designed for continuous variables.\n",
    "It tries to minimize variance but the concept of variance breaks down when you have categorical data."
   ]
  },
  {
   "cell_type": "markdown",
   "metadata": {},
   "source": [
    "# Question 2"
   ]
  },
  {
   "cell_type": "code",
   "execution_count": 404,
   "metadata": {},
   "outputs": [],
   "source": [
    "df = pd.read_csv('AdmissionDataset/data.csv')\n",
    "df = df.apply(np.random.permutation)\n",
    "df.rename(columns=lambda x: x.strip(), inplace=True)\n",
    "df.drop(columns={'Serial No.'}, inplace=True)\n",
    "df.corr()['Chance of Admit'].round(1)\n",
    "df.drop(columns={'LOR', 'Research'}, inplace=True)\n",
    "df['Chance of Admit'].median()\n",
    "targets = np.where(df['Chance of Admit'] >= 0.5, 1, 0)\n",
    "targets.shape\n",
    "df['Probability of Acceptance'] = targets\n",
    "df.head()\n",
    "targets.sum()/len(targets)\n",
    "df = df.drop(['Chance of Admit'], axis=1)\n",
    "df.head()\n",
    "inputs = df.iloc[:, :-1]"
   ]
  },
  {
   "cell_type": "code",
   "execution_count": 405,
   "metadata": {},
   "outputs": [
    {
     "name": "stdout",
     "output_type": "stream",
     "text": [
      "Accuracy using KNN: 85.84070796460178 %\n"
     ]
    }
   ],
   "source": [
    "X_train, X_test, y_train, y_test = train_test_split(inputs, targets, test_size = 0.25,shuffle = True, random_state = 20 )\n",
    "X_train = np.asarray(X_train)\n",
    "y_train = np.asarray(y_train)\n",
    "X_test = np.asarray(X_test)\n",
    "y_test = np.asarray(y_test)\n",
    "classifier = KNN()\n",
    "classifier.fit(X_train, y_train)\n",
    "predictions = classifier.predict(X_test, 3)\n",
    "print(\"Accuracy using KNN:\", accuracy_score(y_test, predictions)*100, \"%\")"
   ]
  },
  {
   "cell_type": "code",
   "execution_count": 406,
   "metadata": {},
   "outputs": [],
   "source": [
    "class RegularizedLogisticRegression:\n",
    "    def __init__(self, lr=0.01, num_iter=100000, fit_intercept=True, verbose=False,reg=10):\n",
    "        self.lr = lr\n",
    "        self.num_iter = num_iter\n",
    "        self.fit_intercept = fit_intercept\n",
    "        self.reg = reg\n",
    "    \n",
    "    def __add_intercept(self, X):\n",
    "        intercept = np.ones((X.shape[0], 1))\n",
    "        return np.concatenate((intercept, X), axis=1)\n",
    "    \n",
    "    def __sigmoid(self, z):\n",
    "        return 1 / (1 + np.exp(-z))\n",
    "    def __loss(self, h, y):\n",
    "        return (-y * np.log(h) - (1 - y) * np.log(1 - h)).mean()\n",
    "    \n",
    "    def fit(self, X, y):\n",
    "        if self.fit_intercept:\n",
    "            X = self.__add_intercept(X)\n",
    "        \n",
    "        # weights initialization\n",
    "        self.theta = np.zeros(X.shape[1])\n",
    "        \n",
    "        for i in range(self.num_iter):\n",
    "            z = np.dot(X, self.theta)\n",
    "            h = self.__sigmoid(z)\n",
    "            gradient = np.dot(X.T, (h - y)) / y.size\n",
    "            self.theta -= self.lr * (gradient + self.reg*self.theta/y.size)\n",
    "            \n",
    "        \n",
    "    def predict_prob(self, X):\n",
    "        if self.fit_intercept:\n",
    "            X = self.__add_intercept(X)\n",
    "    \n",
    "        return self.__sigmoid(np.dot(X, self.theta))\n",
    "    \n",
    "    def predict(self, X, threshold):\n",
    "        return self.predict_prob(X) >= threshold"
   ]
  },
  {
   "cell_type": "code",
   "execution_count": 407,
   "metadata": {},
   "outputs": [
    {
     "data": {
      "text/plain": [
       "0.9026548672566371"
      ]
     },
     "execution_count": 407,
     "metadata": {},
     "output_type": "execute_result"
    }
   ],
   "source": [
    "model = RegularizedLogisticRegression(lr=0.001, num_iter=10000,reg=100)\n",
    "model.fit(X_train,y_train)\n",
    "preds = model.predict(X_test,0.5)\n",
    "(preds == y_test).mean()"
   ]
  },
  {
   "cell_type": "markdown",
   "metadata": {},
   "source": [
    "# Question 3"
   ]
  },
  {
   "cell_type": "markdown",
   "metadata": {},
   "source": [
    "## One vs One"
   ]
  },
  {
   "cell_type": "code",
   "execution_count": 387,
   "metadata": {},
   "outputs": [],
   "source": [
    "data=pd.read_csv(\"wine-quality/data.csv\",sep=';')\n",
    "data = data.apply(np.random.permutation)"
   ]
  },
  {
   "cell_type": "code",
   "execution_count": 388,
   "metadata": {},
   "outputs": [
    {
     "data": {
      "text/plain": [
       "<matplotlib.axes._subplots.AxesSubplot at 0x1a28a1bcf8>"
      ]
     },
     "execution_count": 388,
     "metadata": {},
     "output_type": "execute_result"
    },
    {
     "data": {
      "image/png": "[encoded data removed]",
      "text/plain": [
       "<Figure size 864x864 with 2 Axes>"
      ]
     },
     "metadata": {
      "needs_background": "light"
     },
     "output_type": "display_data"
    }
   ],
   "source": [
    "plt.figure(figsize=(12,12))\n",
    "sns.heatmap(data.corr(),cmap=\"BuPu\", annot=True, linewidths=0.5)"
   ]
  },
  {
   "cell_type": "code",
   "execution_count": 389,
   "metadata": {},
   "outputs": [
    {
     "data": {
      "text/html": [
       "<div>\n",
       "<style scoped>\n",
       "    .dataframe tbody tr th:only-of-type {\n",
       "        vertical-align: middle;\n",
       "    }\n",
       "\n",
       "    .dataframe tbody tr th {\n",
       "        vertical-align: top;\n",
       "    }\n",
       "\n",
       "    .dataframe thead th {\n",
       "        text-align: right;\n",
       "    }\n",
       "</style>\n",
       "<table border=\"1\" class=\"dataframe\">\n",
       "  <thead>\n",
       "    <tr style=\"text-align: right;\">\n",
       "      <th></th>\n",
       "      <th>fixed acidity</th>\n",
       "      <th>volatile acidity</th>\n",
       "      <th>citric acid</th>\n",
       "      <th>residual sugar</th>\n",
       "      <th>chlorides</th>\n",
       "      <th>free sulfur dioxide</th>\n",
       "      <th>total sulfur dioxide</th>\n",
       "      <th>density</th>\n",
       "      <th>pH</th>\n",
       "      <th>sulphates</th>\n",
       "      <th>alcohol</th>\n",
       "      <th>quality</th>\n",
       "    </tr>\n",
       "  </thead>\n",
       "  <tbody>\n",
       "    <tr>\n",
       "      <th>0</th>\n",
       "      <td>8.7</td>\n",
       "      <td>0.300</td>\n",
       "      <td>0.49</td>\n",
       "      <td>6.50</td>\n",
       "      <td>0.051</td>\n",
       "      <td>50.0</td>\n",
       "      <td>125.0</td>\n",
       "      <td>0.99240</td>\n",
       "      <td>3.18</td>\n",
       "      <td>0.42</td>\n",
       "      <td>10.9</td>\n",
       "      <td>0</td>\n",
       "    </tr>\n",
       "    <tr>\n",
       "      <th>1</th>\n",
       "      <td>6.8</td>\n",
       "      <td>0.270</td>\n",
       "      <td>0.28</td>\n",
       "      <td>31.60</td>\n",
       "      <td>0.021</td>\n",
       "      <td>43.5</td>\n",
       "      <td>191.0</td>\n",
       "      <td>0.99226</td>\n",
       "      <td>3.28</td>\n",
       "      <td>0.47</td>\n",
       "      <td>11.0</td>\n",
       "      <td>0</td>\n",
       "    </tr>\n",
       "    <tr>\n",
       "      <th>2</th>\n",
       "      <td>6.5</td>\n",
       "      <td>0.170</td>\n",
       "      <td>0.49</td>\n",
       "      <td>11.75</td>\n",
       "      <td>0.118</td>\n",
       "      <td>41.0</td>\n",
       "      <td>195.0</td>\n",
       "      <td>0.99293</td>\n",
       "      <td>3.22</td>\n",
       "      <td>0.43</td>\n",
       "      <td>10.1</td>\n",
       "      <td>0</td>\n",
       "    </tr>\n",
       "    <tr>\n",
       "      <th>3</th>\n",
       "      <td>8.3</td>\n",
       "      <td>0.190</td>\n",
       "      <td>0.32</td>\n",
       "      <td>2.50</td>\n",
       "      <td>0.045</td>\n",
       "      <td>18.0</td>\n",
       "      <td>163.0</td>\n",
       "      <td>0.99330</td>\n",
       "      <td>3.04</td>\n",
       "      <td>0.52</td>\n",
       "      <td>10.4</td>\n",
       "      <td>1</td>\n",
       "    </tr>\n",
       "    <tr>\n",
       "      <th>4</th>\n",
       "      <td>7.1</td>\n",
       "      <td>0.555</td>\n",
       "      <td>0.40</td>\n",
       "      <td>4.00</td>\n",
       "      <td>0.050</td>\n",
       "      <td>16.0</td>\n",
       "      <td>154.0</td>\n",
       "      <td>0.99590</td>\n",
       "      <td>3.20</td>\n",
       "      <td>0.62</td>\n",
       "      <td>9.3</td>\n",
       "      <td>0</td>\n",
       "    </tr>\n",
       "    <tr>\n",
       "      <th>5</th>\n",
       "      <td>6.1</td>\n",
       "      <td>0.240</td>\n",
       "      <td>0.21</td>\n",
       "      <td>7.10</td>\n",
       "      <td>0.045</td>\n",
       "      <td>17.0</td>\n",
       "      <td>116.0</td>\n",
       "      <td>0.99390</td>\n",
       "      <td>3.17</td>\n",
       "      <td>0.47</td>\n",
       "      <td>11.7</td>\n",
       "      <td>0</td>\n",
       "    </tr>\n",
       "    <tr>\n",
       "      <th>6</th>\n",
       "      <td>6.3</td>\n",
       "      <td>0.300</td>\n",
       "      <td>0.28</td>\n",
       "      <td>13.70</td>\n",
       "      <td>0.051</td>\n",
       "      <td>28.0</td>\n",
       "      <td>30.0</td>\n",
       "      <td>0.99660</td>\n",
       "      <td>3.17</td>\n",
       "      <td>0.57</td>\n",
       "      <td>11.4</td>\n",
       "      <td>1</td>\n",
       "    </tr>\n",
       "    <tr>\n",
       "      <th>7</th>\n",
       "      <td>7.2</td>\n",
       "      <td>0.210</td>\n",
       "      <td>0.37</td>\n",
       "      <td>12.90</td>\n",
       "      <td>0.041</td>\n",
       "      <td>29.0</td>\n",
       "      <td>133.0</td>\n",
       "      <td>0.99590</td>\n",
       "      <td>3.25</td>\n",
       "      <td>0.34</td>\n",
       "      <td>12.8</td>\n",
       "      <td>0</td>\n",
       "    </tr>\n",
       "    <tr>\n",
       "      <th>8</th>\n",
       "      <td>6.6</td>\n",
       "      <td>0.190</td>\n",
       "      <td>0.49</td>\n",
       "      <td>7.40</td>\n",
       "      <td>0.047</td>\n",
       "      <td>31.0</td>\n",
       "      <td>92.0</td>\n",
       "      <td>0.98958</td>\n",
       "      <td>3.15</td>\n",
       "      <td>0.37</td>\n",
       "      <td>10.4</td>\n",
       "      <td>1</td>\n",
       "    </tr>\n",
       "    <tr>\n",
       "      <th>9</th>\n",
       "      <td>7.8</td>\n",
       "      <td>0.280</td>\n",
       "      <td>0.30</td>\n",
       "      <td>13.90</td>\n",
       "      <td>0.034</td>\n",
       "      <td>44.0</td>\n",
       "      <td>128.0</td>\n",
       "      <td>0.99400</td>\n",
       "      <td>3.01</td>\n",
       "      <td>0.42</td>\n",
       "      <td>10.8</td>\n",
       "      <td>1</td>\n",
       "    </tr>\n",
       "  </tbody>\n",
       "</table>\n",
       "</div>"
      ],
      "text/plain": [
       "   fixed acidity  volatile acidity  citric acid  residual sugar  chlorides  \\\n",
       "0            8.7             0.300         0.49            6.50      0.051   \n",
       "1            6.8             0.270         0.28           31.60      0.021   \n",
       "2            6.5             0.170         0.49           11.75      0.118   \n",
       "3            8.3             0.190         0.32            2.50      0.045   \n",
       "4            7.1             0.555         0.40            4.00      0.050   \n",
       "5            6.1             0.240         0.21            7.10      0.045   \n",
       "6            6.3             0.300         0.28           13.70      0.051   \n",
       "7            7.2             0.210         0.37           12.90      0.041   \n",
       "8            6.6             0.190         0.49            7.40      0.047   \n",
       "9            7.8             0.280         0.30           13.90      0.034   \n",
       "\n",
       "   free sulfur dioxide  total sulfur dioxide  density    pH  sulphates  \\\n",
       "0                 50.0                 125.0  0.99240  3.18       0.42   \n",
       "1                 43.5                 191.0  0.99226  3.28       0.47   \n",
       "2                 41.0                 195.0  0.99293  3.22       0.43   \n",
       "3                 18.0                 163.0  0.99330  3.04       0.52   \n",
       "4                 16.0                 154.0  0.99590  3.20       0.62   \n",
       "5                 17.0                 116.0  0.99390  3.17       0.47   \n",
       "6                 28.0                  30.0  0.99660  3.17       0.57   \n",
       "7                 29.0                 133.0  0.99590  3.25       0.34   \n",
       "8                 31.0                  92.0  0.98958  3.15       0.37   \n",
       "9                 44.0                 128.0  0.99400  3.01       0.42   \n",
       "\n",
       "   alcohol  quality  \n",
       "0     10.9        0  \n",
       "1     11.0        0  \n",
       "2     10.1        0  \n",
       "3     10.4        1  \n",
       "4      9.3        0  \n",
       "5     11.7        0  \n",
       "6     11.4        1  \n",
       "7     12.8        0  \n",
       "8     10.4        1  \n",
       "9     10.8        1  "
      ]
     },
     "execution_count": 389,
     "metadata": {},
     "output_type": "execute_result"
    }
   ],
   "source": [
    "data['quality'] = pd.cut(data['quality'], bins = [1,6,10], labels = [0,1]).astype(int)\n",
    "data.head(10)"
   ]
  },
  {
   "cell_type": "code",
   "execution_count": 390,
   "metadata": {},
   "outputs": [
    {
     "data": {
      "image/png": "[encoded data removed]",
      "text/plain": [
       "<Figure size 432x288 with 1 Axes>"
      ]
     },
     "metadata": {
      "needs_background": "light"
     },
     "output_type": "display_data"
    }
   ],
   "source": [
    "sns.countplot(x='quality', data=data)\n",
    "plt.show()"
   ]
  },
  {
   "cell_type": "code",
   "execution_count": 391,
   "metadata": {},
   "outputs": [],
   "source": [
    "y=data.quality.values\n",
    "x=data.drop([\"quality\"],axis=1)"
   ]
  },
  {
   "cell_type": "code",
   "execution_count": 392,
   "metadata": {},
   "outputs": [],
   "source": [
    "x=((x-np.min(x)) / (np.max(x)-np.min(x)))"
   ]
  },
  {
   "cell_type": "code",
   "execution_count": 393,
   "metadata": {},
   "outputs": [],
   "source": [
    "from sklearn.model_selection import train_test_split\n",
    "x_train,x_test,y_train,y_test=train_test_split(x,y,test_size=0.2,random_state=42)"
   ]
  },
  {
   "cell_type": "code",
   "execution_count": 394,
   "metadata": {},
   "outputs": [
    {
     "data": {
      "text/plain": [
       "0.7891156462585034"
      ]
     },
     "execution_count": 394,
     "metadata": {},
     "output_type": "execute_result"
    }
   ],
   "source": [
    "model = RegularizedLogisticRegression(lr=0.001, num_iter=10000,reg=100)\n",
    "model.fit(x_train,y_train)\n",
    "preds = model.predict(x_test,0.5)\n",
    "(preds == y_test).mean()"
   ]
  },
  {
   "cell_type": "markdown",
   "metadata": {},
   "source": [
    "## ONE VS ALL"
   ]
  },
  {
   "cell_type": "code",
   "execution_count": 395,
   "metadata": {},
   "outputs": [
    {
     "data": {
      "text/html": [
       "<div>\n",
       "<style scoped>\n",
       "    .dataframe tbody tr th:only-of-type {\n",
       "        vertical-align: middle;\n",
       "    }\n",
       "\n",
       "    .dataframe tbody tr th {\n",
       "        vertical-align: top;\n",
       "    }\n",
       "\n",
       "    .dataframe thead th {\n",
       "        text-align: right;\n",
       "    }\n",
       "</style>\n",
       "<table border=\"1\" class=\"dataframe\">\n",
       "  <thead>\n",
       "    <tr style=\"text-align: right;\">\n",
       "      <th></th>\n",
       "      <th>fixed acidity</th>\n",
       "      <th>volatile acidity</th>\n",
       "      <th>citric acid</th>\n",
       "      <th>residual sugar</th>\n",
       "      <th>chlorides</th>\n",
       "      <th>free sulfur dioxide</th>\n",
       "      <th>total sulfur dioxide</th>\n",
       "      <th>density</th>\n",
       "      <th>pH</th>\n",
       "      <th>sulphates</th>\n",
       "      <th>alcohol</th>\n",
       "      <th>quality</th>\n",
       "    </tr>\n",
       "  </thead>\n",
       "  <tbody>\n",
       "    <tr>\n",
       "      <th>0</th>\n",
       "      <td>5.9</td>\n",
       "      <td>0.37</td>\n",
       "      <td>0.49</td>\n",
       "      <td>19.35</td>\n",
       "      <td>0.031</td>\n",
       "      <td>47.0</td>\n",
       "      <td>121.0</td>\n",
       "      <td>0.99047</td>\n",
       "      <td>3.05</td>\n",
       "      <td>0.50</td>\n",
       "      <td>10.2</td>\n",
       "      <td>1</td>\n",
       "    </tr>\n",
       "    <tr>\n",
       "      <th>1</th>\n",
       "      <td>7.3</td>\n",
       "      <td>0.23</td>\n",
       "      <td>0.36</td>\n",
       "      <td>12.10</td>\n",
       "      <td>0.056</td>\n",
       "      <td>42.0</td>\n",
       "      <td>164.0</td>\n",
       "      <td>0.99084</td>\n",
       "      <td>3.39</td>\n",
       "      <td>0.49</td>\n",
       "      <td>9.5</td>\n",
       "      <td>2</td>\n",
       "    </tr>\n",
       "    <tr>\n",
       "      <th>2</th>\n",
       "      <td>7.7</td>\n",
       "      <td>0.30</td>\n",
       "      <td>0.31</td>\n",
       "      <td>1.80</td>\n",
       "      <td>0.041</td>\n",
       "      <td>58.0</td>\n",
       "      <td>117.0</td>\n",
       "      <td>0.99397</td>\n",
       "      <td>2.97</td>\n",
       "      <td>0.45</td>\n",
       "      <td>11.2</td>\n",
       "      <td>1</td>\n",
       "    </tr>\n",
       "    <tr>\n",
       "      <th>3</th>\n",
       "      <td>6.7</td>\n",
       "      <td>0.19</td>\n",
       "      <td>0.46</td>\n",
       "      <td>2.50</td>\n",
       "      <td>0.046</td>\n",
       "      <td>13.0</td>\n",
       "      <td>189.0</td>\n",
       "      <td>0.99192</td>\n",
       "      <td>3.15</td>\n",
       "      <td>0.37</td>\n",
       "      <td>10.2</td>\n",
       "      <td>1</td>\n",
       "    </tr>\n",
       "    <tr>\n",
       "      <th>4</th>\n",
       "      <td>7.1</td>\n",
       "      <td>0.29</td>\n",
       "      <td>0.33</td>\n",
       "      <td>1.40</td>\n",
       "      <td>0.050</td>\n",
       "      <td>24.0</td>\n",
       "      <td>68.0</td>\n",
       "      <td>0.99462</td>\n",
       "      <td>3.01</td>\n",
       "      <td>0.40</td>\n",
       "      <td>10.2</td>\n",
       "      <td>1</td>\n",
       "    </tr>\n",
       "  </tbody>\n",
       "</table>\n",
       "</div>"
      ],
      "text/plain": [
       "   fixed acidity  volatile acidity  citric acid  residual sugar  chlorides  \\\n",
       "0            5.9              0.37         0.49           19.35      0.031   \n",
       "1            7.3              0.23         0.36           12.10      0.056   \n",
       "2            7.7              0.30         0.31            1.80      0.041   \n",
       "3            6.7              0.19         0.46            2.50      0.046   \n",
       "4            7.1              0.29         0.33            1.40      0.050   \n",
       "\n",
       "   free sulfur dioxide  total sulfur dioxide  density    pH  sulphates  \\\n",
       "0                 47.0                 121.0  0.99047  3.05       0.50   \n",
       "1                 42.0                 164.0  0.99084  3.39       0.49   \n",
       "2                 58.0                 117.0  0.99397  2.97       0.45   \n",
       "3                 13.0                 189.0  0.99192  3.15       0.37   \n",
       "4                 24.0                  68.0  0.99462  3.01       0.40   \n",
       "\n",
       "   alcohol  quality  \n",
       "0     10.2        1  \n",
       "1      9.5        2  \n",
       "2     11.2        1  \n",
       "3     10.2        1  \n",
       "4     10.2        1  "
      ]
     },
     "execution_count": 395,
     "metadata": {},
     "output_type": "execute_result"
    }
   ],
   "source": [
    "data=pd.read_csv(\"wine-quality/data.csv\",sep=';')\n",
    "data.head()\n",
    "data = data.apply(np.random.permutation)\n",
    "data.loc[(data.quality >=3) & (data.quality <= 5), 'quality'] = 0\n",
    "data.loc[(data.quality >=6) & (data.quality <= 7), 'quality'] = 1\n",
    "data.loc[(data.quality >=8) & (data.quality <= 9), 'quality'] = 2 \n",
    "\n",
    "# data['quality'] = pd.cut(data['quality'], bins = [1,6,10], labels = [0,1]).astype(int)\n",
    "data.head()"
   ]
  },
  {
   "cell_type": "code",
   "execution_count": 396,
   "metadata": {},
   "outputs": [],
   "source": [
    "qualities = [0,1,2]\n",
    "#Number of examples\n",
    "m = data.shape[0]\n",
    "#Features\n",
    "n = 11\n",
    "\n",
    "k = 3\n",
    "\n",
    "X = np.ones((m,n + 1))\n",
    "y = np.array((m,1))\n",
    "X[:,1] = data['fixed acidity'].values\n",
    "X[:,2] = data['volatile acidity'].values\n",
    "X[:,3] = data['citric acid'].values\n",
    "X[:,4] = data['residual sugar'].values\n",
    "X[:,5] = data['chlorides'].values\n",
    "X[:,6] = data['free sulfur dioxide'].values\n",
    "X[:,7] = data['total sulfur dioxide'].values\n",
    "X[:,8] = data['density'].values\n",
    "X[:,9] = data['pH'].values\n",
    "X[:,10] = data['sulphates'].values\n",
    "X[:,11] = data['alcohol'].values\n",
    "\n",
    "#Labels\n",
    "y = data['quality'].values\n",
    "\n",
    "for j in range(n):\n",
    "    X[:, j] = (X[:, j] - X[:,j].mean())\n",
    "\n",
    "X_train, X_test, y_train, y_test = train_test_split(X, y, test_size = 0.2, random_state = 11)"
   ]
  },
  {
   "cell_type": "code",
   "execution_count": 397,
   "metadata": {},
   "outputs": [],
   "source": [
    "#Logistic Regression\n",
    "\n",
    "def sigmoid(z):\n",
    "    return 1.0 / (1 + np.exp(-z))\n",
    "\n",
    "#Regularized cost function\n",
    "def regCostFunction(theta, X, y, _lambda = 0.1):\n",
    "    m = len(y)\n",
    "    h = sigmoid(X.dot(theta))\n",
    "    reg = (_lambda/(2 * m)) * np.sum(theta**2)\n",
    "\n",
    "    return (1 / m) * (-y.T.dot(np.log(h)) - (1 - y).T.dot(np.log(1 - h))) + reg\n",
    "\n",
    "#Regularized gradient function\n",
    "def regGradient(theta, X, y, _lambda = 0.1):\n",
    "    m, n = X.shape\n",
    "    theta = theta.reshape((n, 1))\n",
    "    y = y.reshape((m, 1))\n",
    "    h = sigmoid(X.dot(theta))\n",
    "    reg = _lambda * theta /m\n",
    "\n",
    "    return ((1 / m) * X.T.dot(h - y)) + reg\n",
    "\n",
    "#Optimal theta \n",
    "def logisticRegression(X, y, theta):\n",
    "    result = op.minimize(fun = regCostFunction, x0 = theta, args = (X, y),\n",
    "                         method = 'TNC', jac = regGradient)\n",
    "    \n",
    "    return result.x"
   ]
  },
  {
   "cell_type": "code",
   "execution_count": 398,
   "metadata": {},
   "outputs": [],
   "source": [
    "all_theta = np.zeros((k, n + 1))\n",
    "\n",
    "#One vs all\n",
    "i = 0\n",
    "for ql in qualities:\n",
    "    #set the labels in 0 and 1\n",
    "    tmp_y = np.array(y_train == ql, dtype = int)\n",
    "    optTheta = logisticRegression(X_train, tmp_y, np.zeros((n + 1,1)))\n",
    "    all_theta[i] = optTheta\n",
    "    i += 1"
   ]
  },
  {
   "cell_type": "code",
   "execution_count": 399,
   "metadata": {},
   "outputs": [
    {
     "name": "stdout",
     "output_type": "stream",
     "text": [
      "Test Accuracy  64.62585034013605 %\n"
     ]
    }
   ],
   "source": [
    "P = sigmoid(X_test.dot(all_theta.T)) #probability for each flower\n",
    "p = [qualities[np.argmax(P[i, :])] for i in range(X_test.shape[0])]\n",
    "print(\"Test Accuracy \", accuracy_score(y_test, p) * 100 , '%')"
   ]
  }
 ],
 "metadata": {
  "kernelspec": {
   "display_name": "Python 3",
   "language": "python",
   "name": "python3"
  },
  "language_info": {
   "codemirror_mode": {
    "name": "ipython",
    "version": 3
   },
   "file_extension": ".py",
   "mimetype": "text/x-python",
   "name": "python",
   "nbconvert_exporter": "python",
   "pygments_lexer": "ipython3",
   "version": "3.7.1"
  }
 },
 "nbformat": 4,
 "nbformat_minor": 2
}
