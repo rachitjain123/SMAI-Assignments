{
 "cells": [
  {
   "cell_type": "markdown",
   "metadata": {},
   "source": [
    "# Question 1"
   ]
  },
  {
   "cell_type": "code",
   "execution_count": 76,
   "metadata": {},
   "outputs": [],
   "source": [
    "import numpy as np\n",
    "import pandas as pd\n",
    "import sys\n",
    "import matplotlib.pyplot as plt\n",
    "import seaborn as sns\n",
    "import math\n",
    "from sklearn.preprocessing import MinMaxScaler\n",
    "import random\n",
    "from sklearn.model_selection import train_test_split\n",
    "from sklearn import metrics\n",
    "from sklearn.mixture import GaussianMixture \n",
    "from sklearn.cluster import AgglomerativeClustering\n",
    "import csv\n",
    "from random import seed\n",
    "from random import randrange\n",
    "from random import shuffle\n",
    "import itertools\n",
    "import operator\n",
    "from sklearn.decomposition import PCA\n",
    "from sklearn.datasets import load_digits\n",
    "from sklearn.preprocessing import StandardScaler\n",
    "from sklearn.neighbors.kde import KernelDensity\n",
    "from sklearn.svm import SVC\n",
    "from sklearn.model_selection import GridSearchCV\n",
    "from sklearn.model_selection import LeaveOneOut\n",
    "import numpy as np\n",
    "from sklearn.preprocessing import StandardScaler\n",
    "from scipy.special import expit\n",
    "from sklearn import mixture"
   ]
  },
  {
   "cell_type": "markdown",
   "metadata": {},
   "source": [
    "## Part 1"
   ]
  },
  {
   "cell_type": "code",
   "execution_count": 316,
   "metadata": {},
   "outputs": [],
   "source": [
    "def load_dataset(filename):\n",
    "    file = open(filename,\"r\")\n",
    "    lines = csv.reader(file,delimiter=',')\n",
    "    dataset = list(lines)\n",
    "    return dataset"
   ]
  },
  {
   "cell_type": "code",
   "execution_count": 317,
   "metadata": {},
   "outputs": [],
   "source": [
    "def col_conversion(dataset):\n",
    "    for row in dataset:\n",
    "        l1 = len(dataset[0])\n",
    "        for i in range(0, l1):\n",
    "            tmp = row[i]\n",
    "            if tmp.isnumeric():\n",
    "                row[i] = int(row[i].strip())\n",
    "            else:                \n",
    "                try:\n",
    "                    row[i] = float(row[i]) \n",
    "                except:    \n",
    "                    pass\n",
    "    return dataset"
   ]
  },
  {
   "cell_type": "code",
   "execution_count": 318,
   "metadata": {},
   "outputs": [],
   "source": [
    "def normalize(train):\n",
    "     return  StandardScaler().fit_transform(train)"
   ]
  },
  {
   "cell_type": "code",
   "execution_count": 319,
   "metadata": {},
   "outputs": [],
   "source": [
    "def split_validation(dataset,split):\n",
    "    train = list()\n",
    "    ld = len(dataset)\n",
    "    train_size = split*ld\n",
    "    validate_set = list(dataset)\n",
    "    while True:\n",
    "        if len(train) >= train_size:\n",
    "            break\n",
    "        index = randrange(len(validate_set))\n",
    "        train.append(validate_set.pop(index))\n",
    "    return train,validate_set "
   ]
  },
  {
   "cell_type": "code",
   "execution_count": 320,
   "metadata": {},
   "outputs": [],
   "source": [
    "def initiate_network(input_neurons,n_hidden_layer,hidden_neurons,output_neurons):\n",
    "    neural_net =  []\n",
    "    for i in range(n_hidden_layer):\n",
    "        if i != 0:\n",
    "            input_neurons = neural_net[-1].shape[1]\n",
    "        hidden_layer = np.random.randn(input_neurons,hidden_neurons)\n",
    "        \n",
    "        neural_net.append(hidden_layer)\n",
    "    \n",
    "    output_layer = np.random.randn(hidden_neurons,output_neurons)\n",
    "    neural_net.append(output_layer)\n",
    "        \n",
    "    return neural_net"
   ]
  },
  {
   "cell_type": "code",
   "execution_count": 321,
   "metadata": {},
   "outputs": [],
   "source": [
    "def act_sigmoid(x):\n",
    "    zt = (1/(1+np.exp(-x)))\n",
    "    return zt\n",
    "\n",
    "def sigmoid_der(x):\n",
    "    zt = (x)*(1-(x))\n",
    "    return zt"
   ]
  },
  {
   "cell_type": "code",
   "execution_count": 340,
   "metadata": {},
   "outputs": [],
   "source": [
    "def ReLU(x):\n",
    "    vll = x * (x > 0)\n",
    "    return vll\n",
    "\n",
    "def dReLU(x):\n",
    "    vl1 = 1. * (x > 0)\n",
    "    return vl1"
   ]
  },
  {
   "cell_type": "code",
   "execution_count": 323,
   "metadata": {},
   "outputs": [],
   "source": [
    "def forward_prop(neural_net,data):\n",
    "    row = data\n",
    "    l1 = len(neural_net)\n",
    "    out = [[] for i in range(l1)]\n",
    "    for i in range(0, l1):\n",
    "        val = np.dot(row,neural_net[i])\n",
    "        out[i] = act_sigmoid(val)\n",
    "        row = act_sigmoid(val)\n",
    "    return out"
   ]
  },
  {
   "cell_type": "code",
   "execution_count": 324,
   "metadata": {},
   "outputs": [],
   "source": [
    "def back_prop(neural_net,row,output_label,out):\n",
    "    l1 = len(neural_net)\n",
    "    delta = [[] for i in range(l1)]\n",
    "    err = output_label - np.array(out[l1-1])\n",
    "    delta[l1-1] = np.dot(out[l1-2].T,err)\n",
    "    for i in reversed(range(1,l1-1)):\n",
    "        err = np.dot(err,neural_net[i+1].T)*sigmoid_der(out[i])\n",
    "        delta[i] = np.dot(out[i-1].T,err)\n",
    "    err = np.dot(err,neural_net[1].T)*sigmoid_der(out[0])\n",
    "    delta[0] = np.dot(row.T,err)\n",
    "    return delta"
   ]
  },
  {
   "cell_type": "code",
   "execution_count": 325,
   "metadata": {},
   "outputs": [],
   "source": [
    "def update_weight(delta,neural_net,data,out,alpha):\n",
    "    l1 = len(neural_net)\n",
    "    for i in range(0, l1):\n",
    "        tmp = alpha*delta[i]\n",
    "        neural_net[i] += tmp; \n",
    "    return neural_net "
   ]
  },
  {
   "cell_type": "code",
   "execution_count": 331,
   "metadata": {},
   "outputs": [],
   "source": [
    "def train_neural_net(train,neural_net,iterations,alpha):\n",
    "    errors = []\n",
    "    expected = train\n",
    "    for epoch in range(iterations):\n",
    "        out = forward_prop(neural_net,train)\n",
    "        l1 = len(neural_net)\n",
    "        sum_err = np.mean(np.square(expected-np.array(out[l1-1])))\n",
    "        delta = back_prop(neural_net,train,expected,out)\n",
    "        neural_net = update_weight(delta,neural_net,expected,out,alpha)\n",
    "        \n",
    "        if epoch%100==0:\n",
    "#             print('>epoch=%d, lrate=%.5f, error=%.5f' % (epoch,alpha, sum_err))\n",
    "            errors.append(sum_err)\n",
    "        \n",
    "    return neural_net,errors"
   ]
  },
  {
   "cell_type": "code",
   "execution_count": 332,
   "metadata": {},
   "outputs": [],
   "source": [
    "def batch_train(train,neural_net,iterations,alpha,batch_size):\n",
    "    data = train    \n",
    "    neurel_net,err  = train_neural_net(data,neural_net,iterations,alpha)\n",
    "    return neural_net"
   ]
  },
  {
   "cell_type": "code",
   "execution_count": 333,
   "metadata": {},
   "outputs": [],
   "source": [
    "def normalize(d):\n",
    "    v1 = np.min(d, axis=0)\n",
    "    v2 = np.ptp(d, axis=0)\n",
    "    d = d - v1\n",
    "    d = d / v2\n",
    "    return d"
   ]
  },
  {
   "cell_type": "code",
   "execution_count": 334,
   "metadata": {},
   "outputs": [],
   "source": [
    "file = \"./data.csv\"\n",
    "dataset = load_dataset(file)\n",
    "del(dataset[0])\n",
    "dataset = col_conversion(dataset)\n",
    "for row in dataset:\n",
    "    del(row[-1])\n",
    "dataset = np.array(dataset)\n",
    "dataset = normalize(dataset)\n",
    "training = dataset"
   ]
  },
  {
   "cell_type": "markdown",
   "metadata": {},
   "source": [
    "### Autoencoder 1"
   ]
  },
  {
   "cell_type": "code",
   "execution_count": 335,
   "metadata": {},
   "outputs": [
    {
     "name": "stdout",
     "output_type": "stream",
     "text": [
      ">epoch=0, lrate=0.00005, error=0.30314\n",
      ">epoch=100, lrate=0.00005, error=0.00723\n",
      ">epoch=200, lrate=0.00005, error=0.00435\n",
      ">epoch=300, lrate=0.00005, error=0.00343\n",
      ">epoch=400, lrate=0.00005, error=0.00293\n",
      ">epoch=500, lrate=0.00005, error=0.00259\n",
      ">epoch=600, lrate=0.00005, error=0.00235\n",
      ">epoch=700, lrate=0.00005, error=0.00217\n",
      ">epoch=800, lrate=0.00005, error=0.00204\n",
      ">epoch=900, lrate=0.00005, error=0.00194\n",
      ">epoch=1000, lrate=0.00005, error=0.00186\n",
      ">epoch=1100, lrate=0.00005, error=0.00179\n",
      ">epoch=1200, lrate=0.00005, error=0.00173\n",
      ">epoch=1300, lrate=0.00005, error=0.00168\n",
      ">epoch=1400, lrate=0.00005, error=0.00164\n",
      ">epoch=1500, lrate=0.00005, error=0.00160\n",
      ">epoch=1600, lrate=0.00005, error=0.00156\n",
      ">epoch=1700, lrate=0.00005, error=0.00153\n",
      ">epoch=1800, lrate=0.00005, error=0.00150\n",
      ">epoch=1900, lrate=0.00005, error=0.00148\n",
      ">epoch=2000, lrate=0.00005, error=0.00145\n",
      ">epoch=2100, lrate=0.00005, error=0.00143\n",
      ">epoch=2200, lrate=0.00005, error=0.00140\n",
      ">epoch=2300, lrate=0.00005, error=0.00138\n",
      ">epoch=2400, lrate=0.00005, error=0.00136\n",
      ">epoch=2500, lrate=0.00005, error=0.00135\n",
      ">epoch=2600, lrate=0.00005, error=0.00133\n",
      ">epoch=2700, lrate=0.00005, error=0.00131\n",
      ">epoch=2800, lrate=0.00005, error=0.00130\n",
      ">epoch=2900, lrate=0.00005, error=0.00128\n",
      ">epoch=3000, lrate=0.00005, error=0.00127\n",
      ">epoch=3100, lrate=0.00005, error=0.00126\n",
      ">epoch=3200, lrate=0.00005, error=0.00124\n",
      ">epoch=3300, lrate=0.00005, error=0.00123\n",
      ">epoch=3400, lrate=0.00005, error=0.00122\n",
      ">epoch=3500, lrate=0.00005, error=0.00121\n",
      ">epoch=3600, lrate=0.00005, error=0.00119\n",
      ">epoch=3700, lrate=0.00005, error=0.00118\n",
      ">epoch=3800, lrate=0.00005, error=0.00117\n",
      ">epoch=3900, lrate=0.00005, error=0.00116\n"
     ]
    }
   ],
   "source": [
    "neural_net = initiate_network(len(training[0]),1,14,len(training[0]))\n",
    "neural_net  = batch_train(training,neural_net,4000,0.00005,1000)\n",
    "autoenc1 = np.dot(training,neural_net[0])"
   ]
  },
  {
   "cell_type": "markdown",
   "metadata": {},
   "source": [
    "### Autoencoder 2"
   ]
  },
  {
   "cell_type": "code",
   "execution_count": 260,
   "metadata": {},
   "outputs": [
    {
     "name": "stdout",
     "output_type": "stream",
     "text": [
      ">epoch=0, lrate=0.00005, error=0.33351\n",
      ">epoch=100, lrate=0.00005, error=0.02251\n",
      ">epoch=200, lrate=0.00005, error=0.01744\n",
      ">epoch=300, lrate=0.00005, error=0.01341\n",
      ">epoch=400, lrate=0.00005, error=0.01429\n",
      ">epoch=500, lrate=0.00005, error=0.01138\n",
      ">epoch=600, lrate=0.00005, error=0.01086\n",
      ">epoch=700, lrate=0.00005, error=0.01167\n",
      ">epoch=800, lrate=0.00005, error=0.00828\n",
      ">epoch=900, lrate=0.00005, error=0.00793\n",
      ">epoch=1000, lrate=0.00005, error=0.00665\n",
      ">epoch=1100, lrate=0.00005, error=0.00601\n",
      ">epoch=1200, lrate=0.00005, error=0.00553\n",
      ">epoch=1300, lrate=0.00005, error=0.00520\n",
      ">epoch=1400, lrate=0.00005, error=0.00492\n",
      ">epoch=1500, lrate=0.00005, error=0.00515\n",
      ">epoch=1600, lrate=0.00005, error=0.00481\n",
      ">epoch=1700, lrate=0.00005, error=0.00468\n",
      ">epoch=1800, lrate=0.00005, error=0.00436\n",
      ">epoch=1900, lrate=0.00005, error=0.00422\n",
      ">epoch=2000, lrate=0.00005, error=0.00409\n",
      ">epoch=2100, lrate=0.00005, error=0.00404\n",
      ">epoch=2200, lrate=0.00005, error=0.00421\n",
      ">epoch=2300, lrate=0.00005, error=0.00344\n",
      ">epoch=2400, lrate=0.00005, error=0.00369\n",
      ">epoch=2500, lrate=0.00005, error=0.00376\n",
      ">epoch=2600, lrate=0.00005, error=0.00319\n",
      ">epoch=2700, lrate=0.00005, error=0.00331\n",
      ">epoch=2800, lrate=0.00005, error=0.00436\n",
      ">epoch=2900, lrate=0.00005, error=0.00313\n",
      ">epoch=3000, lrate=0.00005, error=0.00314\n",
      ">epoch=3100, lrate=0.00005, error=0.00349\n",
      ">epoch=3200, lrate=0.00005, error=0.00326\n",
      ">epoch=3300, lrate=0.00005, error=0.00323\n",
      ">epoch=3400, lrate=0.00005, error=0.00305\n",
      ">epoch=3500, lrate=0.00005, error=0.00289\n",
      ">epoch=3600, lrate=0.00005, error=0.00286\n",
      ">epoch=3700, lrate=0.00005, error=0.00271\n",
      ">epoch=3800, lrate=0.00005, error=0.00299\n",
      ">epoch=3900, lrate=0.00005, error=0.00272\n"
     ]
    }
   ],
   "source": [
    "neural_net = initiate_network(len(training[0]),5,14,len(training[0]))\n",
    "neural_net = batch_train(training,neural_net,4000,0.00005,1000)\n",
    "autoenc2 = np.dot(training,neural_net[0])"
   ]
  },
  {
   "cell_type": "markdown",
   "metadata": {},
   "source": [
    "### Autoencoder 3"
   ]
  },
  {
   "cell_type": "code",
   "execution_count": 337,
   "metadata": {},
   "outputs": [],
   "source": [
    "def forward_prop(neural_net,data):\n",
    "    row = data\n",
    "    l1 = len(neural_net)\n",
    "    out = [[] for i in range(l1)]\n",
    "    for i in range(0, l1):\n",
    "        val = np.dot(row,neural_net[i])\n",
    "        out[i] = ReLU(val)\n",
    "        row = ReLU(val)\n",
    "    return out"
   ]
  },
  {
   "cell_type": "code",
   "execution_count": 338,
   "metadata": {},
   "outputs": [],
   "source": [
    "def back_prop(neural_net,row,output_label,out):\n",
    "    l1 = len(neural_net)\n",
    "    delta = [[] for i in range(l1)]\n",
    "    err = output_label - np.array(out[l1-1])\n",
    "    delta[l1-1] = np.dot(out[l1-2].T,err)\n",
    "    for i in reversed(range(1,l1-1)):\n",
    "        err = np.dot(err,neural_net[i+1].T)*dReLU(out[i])\n",
    "        delta[i] = np.dot(out[i-1].T,err)\n",
    "    err = np.dot(err,neural_net[1].T)*dReLU(out[0])\n",
    "    delta[0] = np.dot(row.T,err)\n",
    "    return delta"
   ]
  },
  {
   "cell_type": "code",
   "execution_count": 341,
   "metadata": {},
   "outputs": [
    {
     "name": "stdout",
     "output_type": "stream",
     "text": [
      ">epoch=0, lrate=0.00000, error=15.61792\n",
      ">epoch=100, lrate=0.00000, error=0.13986\n",
      ">epoch=200, lrate=0.00000, error=0.12767\n",
      ">epoch=300, lrate=0.00000, error=0.11309\n",
      ">epoch=400, lrate=0.00000, error=0.10143\n",
      ">epoch=500, lrate=0.00000, error=0.09290\n",
      ">epoch=600, lrate=0.00000, error=0.08673\n",
      ">epoch=700, lrate=0.00000, error=0.08240\n",
      ">epoch=800, lrate=0.00000, error=0.07938\n",
      ">epoch=900, lrate=0.00000, error=0.07719\n",
      ">epoch=1000, lrate=0.00000, error=0.07557\n",
      ">epoch=1100, lrate=0.00000, error=0.07426\n",
      ">epoch=1200, lrate=0.00000, error=0.07275\n",
      ">epoch=1300, lrate=0.00000, error=0.06986\n",
      ">epoch=1400, lrate=0.00000, error=0.06524\n",
      ">epoch=1500, lrate=0.00000, error=0.05960\n",
      ">epoch=1600, lrate=0.00000, error=0.05073\n",
      ">epoch=1700, lrate=0.00000, error=0.04096\n",
      ">epoch=1800, lrate=0.00000, error=0.03310\n",
      ">epoch=1900, lrate=0.00000, error=0.02806\n",
      ">epoch=2000, lrate=0.00000, error=0.02525\n",
      ">epoch=2100, lrate=0.00000, error=0.02376\n",
      ">epoch=2200, lrate=0.00000, error=0.02293\n",
      ">epoch=2300, lrate=0.00000, error=0.02240\n",
      ">epoch=2400, lrate=0.00000, error=0.02204\n",
      ">epoch=2500, lrate=0.00000, error=0.02176\n",
      ">epoch=2600, lrate=0.00000, error=0.02152\n",
      ">epoch=2700, lrate=0.00000, error=0.02131\n",
      ">epoch=2800, lrate=0.00000, error=0.02110\n",
      ">epoch=2900, lrate=0.00000, error=0.02092\n",
      ">epoch=3000, lrate=0.00000, error=0.02074\n",
      ">epoch=3100, lrate=0.00000, error=0.02057\n",
      ">epoch=3200, lrate=0.00000, error=0.02042\n",
      ">epoch=3300, lrate=0.00000, error=0.02026\n",
      ">epoch=3400, lrate=0.00000, error=0.02011\n",
      ">epoch=3500, lrate=0.00000, error=0.01996\n",
      ">epoch=3600, lrate=0.00000, error=0.01981\n",
      ">epoch=3700, lrate=0.00000, error=0.01966\n",
      ">epoch=3800, lrate=0.00000, error=0.01951\n",
      ">epoch=3900, lrate=0.00000, error=0.01936\n"
     ]
    }
   ],
   "source": [
    "neural_net = initiate_network(len(training[0]),1,14,len(training[0]))\n",
    "neural_net  = batch_train(training,neural_net,4000,0.000001,1000)\n",
    "autoenc3 = np.dot(training,neural_net[0])"
   ]
  },
  {
   "cell_type": "markdown",
   "metadata": {},
   "source": [
    "## Part 2"
   ]
  },
  {
   "cell_type": "code",
   "execution_count": 265,
   "metadata": {},
   "outputs": [],
   "source": [
    "df = pd.read_csv('data.csv')\n",
    "df = df.values\n",
    "anomaly_y = df[:,-1]\n",
    "Y = anomaly_y"
   ]
  },
  {
   "cell_type": "code",
   "execution_count": 271,
   "metadata": {},
   "outputs": [
    {
     "name": "stdout",
     "output_type": "stream",
     "text": [
      "For Auto Encoder 1: \n",
      "Purity of Clusters using K Means\n",
      "0.83376\n",
      "For Auto Encoder 2: \n",
      "Purity of Clusters using K Means\n",
      "0.84912\n",
      "For Auto Encoder 3: \n",
      "Purity of Clusters using K Means\n",
      "0.83568\n"
     ]
    }
   ],
   "source": [
    "def purity_score(y_true, y_pred):\n",
    "    contingency_matrix = metrics.cluster.contingency_matrix(y_true, y_pred)\n",
    "    c1 = np.amax(contingency_matrix, axis=0)\n",
    "    return np.sum(c1) / np.sum(contingency_matrix)\n",
    "\n",
    "def kmeans(Xfinal, k = 5, max_iter = 10):\n",
    "    centroids = {}\n",
    "    for i in range(k):\n",
    "        centroids[i] = Xfinal[i][:-1]\n",
    "    o_cls = {}\n",
    "    for i in range(max_iter):\n",
    "        n_classifications = {}\n",
    "        for i in range(k):\n",
    "            n_classifications[i] = []\n",
    "        \n",
    "        for row in Xfinal:\n",
    "            dist = [np.linalg.norm(row[:-1] - centroids[i]) for i in centroids]\n",
    "            _class = dist.index(min(dist))\n",
    "            n_classifications[_class].append(row)\n",
    "        \n",
    "        prev = dict(centroids)\n",
    "        \n",
    "        for cls in n_classifications:\n",
    "            tt = n_classifications[cls]\n",
    "            tt = np.asarray(tt)\n",
    "            centroids[cls] = np.average(tt[:, :-1], axis=0)\n",
    "        o_cls = n_classifications\n",
    "        \n",
    "    return centroids, o_cls\n",
    "\n",
    "def predict_kmeans(centroids, row):\n",
    "    dist = [np.linalg.norm(row - centroids[i]) for i in centroids]\n",
    "    classification = dist.index(min(dist))\n",
    "    return classification\n",
    "\n",
    "def kmeansClustering(X_train, X_test, Y_train, Y_test):\n",
    "    dataset = np.column_stack([X_train, Y_train])\n",
    "    test = np.column_stack([X_test, Y_test])\n",
    "    dataset[:, :-1] = dataset[:, :-1].astype(float)\n",
    "    centroids, classifications = kmeans(dataset)\n",
    "    \n",
    "    Y_pred = []\n",
    "\n",
    "    correct = 0\n",
    "\n",
    "    for i in range(len(X_test)):\n",
    "        cls = predict_kmeans(centroids, X_test[i])\n",
    "        outcomes = [tmp[-1] for tmp in classifications[cls]]\n",
    "        tt = max(set(outcomes), key=outcomes.count)\n",
    "        Y_pred.append(tt)\n",
    "        if tt == Y_test[i]:\n",
    "            correct += 1\n",
    "    \n",
    "    \n",
    "    score = purity_score(Y_test, Y_pred)\n",
    "    \n",
    "    print(\"Purity of Clusters using K Means\")\n",
    "    print(score)\n",
    "    \n",
    "print(\"For Auto Encoder 1: \")\n",
    "X = autoenc1\n",
    "X_train, X_test, Y_train, Y_test = train_test_split(X, Y, test_size = 0.25,shuffle=True)\n",
    "kmeansClustering(X_train, X_test, Y_train, Y_test)\n",
    "\n",
    "print(\"For Auto Encoder 2: \")\n",
    "X = autoenc2\n",
    "X_train, X_test, Y_train, Y_test = train_test_split(X, Y, test_size = 0.25,shuffle=True)\n",
    "kmeansClustering(X_train, X_test, Y_train, Y_test)\n",
    "\n",
    "print(\"For Auto Encoder 3: \")\n",
    "X = autoenc3\n",
    "X_train, X_test, Y_train, Y_test = train_test_split(X, Y, test_size = 0.25,shuffle=True)\n",
    "kmeansClustering(X_train, X_test, Y_train, Y_test)"
   ]
  },
  {
   "cell_type": "markdown",
   "metadata": {},
   "source": [
    "## Part 3"
   ]
  },
  {
   "cell_type": "code",
   "execution_count": 272,
   "metadata": {},
   "outputs": [],
   "source": [
    "def GMM(X_train, X_test, Y_train, Y_test):\n",
    "    gmm = GaussianMixture(n_components = 5)\n",
    "\n",
    "    gmm.fit(X_train)\n",
    "\n",
    "    Y_pred = gmm.predict(X_test)\n",
    "    score = purity_score(Y_test, Y_pred)\n",
    "    \n",
    "    print(\"Purity of clusters using GMM: \")\n",
    "    print(score)"
   ]
  },
  {
   "cell_type": "code",
   "execution_count": 273,
   "metadata": {},
   "outputs": [
    {
     "name": "stdout",
     "output_type": "stream",
     "text": [
      "For Auto Encoder 1: \n",
      "Purity of clusters using GMM: \n",
      "0.82016\n",
      "For Auto Encoder 2: \n",
      "Purity of clusters using GMM: \n",
      "0.83744\n",
      "For Auto Encoder 3: \n",
      "Purity of clusters using GMM: \n",
      "0.84288\n"
     ]
    }
   ],
   "source": [
    "print(\"For Auto Encoder 1: \")\n",
    "X = autoenc1\n",
    "X_train, X_test, Y_train, Y_test = train_test_split(X, Y, test_size = 0.25,shuffle=True)\n",
    "GMM(X_train, X_test, Y_train, Y_test)\n",
    "\n",
    "print(\"For Auto Encoder 2: \")\n",
    "X = autoenc2\n",
    "X_train, X_test, Y_train, Y_test = train_test_split(X, Y, test_size = 0.25,shuffle=True)\n",
    "GMM(X_train, X_test, Y_train, Y_test)\n",
    "\n",
    "print(\"For Auto Encoder 3: \")\n",
    "X = autoenc3\n",
    "X_train, X_test, Y_train, Y_test = train_test_split(X, Y, test_size = 0.25,shuffle=True)\n",
    "GMM(X_train, X_test, Y_train, Y_test)"
   ]
  },
  {
   "cell_type": "markdown",
   "metadata": {},
   "source": [
    "## Part 4"
   ]
  },
  {
   "cell_type": "code",
   "execution_count": 274,
   "metadata": {},
   "outputs": [],
   "source": [
    "def HierarchicalClustering(dataset, labeled_arr):\n",
    "    purity = []\n",
    "    H_Model = AgglomerativeClustering(n_clusters=5, affinity='euclidean', linkage='single')\n",
    "    out = H_Model.fit_predict(dataset)\n",
    "    unique_out = set(out)\n",
    "    for outs in unique_out:\n",
    "        check_arr = []\n",
    "        for j in range(len(dataset)):\n",
    "            if out[j] == outs:\n",
    "                check_arr.append(labeled_arr[j])\n",
    "        unique_arr = set(check_arr)\n",
    "        max_count = 0\n",
    "        for label in unique_arr:\n",
    "            max_count = max(max_count, check_arr.count(label))\n",
    "        purity.append(float(max_count)/float(len(check_arr)))\n",
    "    print(purity)"
   ]
  },
  {
   "cell_type": "code",
   "execution_count": 276,
   "metadata": {},
   "outputs": [
    {
     "name": "stdout",
     "output_type": "stream",
     "text": [
      "For Auto Encoder 1: \n",
      "[0.5345552042898876, 1.0, 1.0, 1.0, 1.0]\n",
      "For Auto Encoder 2: \n",
      "[0.534892100732674, 1.0, 1.0, 1.0, 1.0]\n",
      "For Auto Encoder 3: \n",
      "[0.5346938775510204, 1.0, 1.0, 1.0, 1.0]\n"
     ]
    }
   ],
   "source": [
    "print(\"For Auto Encoder 1: \")\n",
    "X = autoenc1\n",
    "HierarchicalClustering(X, Y)\n",
    "\n",
    "print(\"For Auto Encoder 2: \")\n",
    "X = autoenc2\n",
    "HierarchicalClustering(X, Y)\n",
    "\n",
    "print(\"For Auto Encoder 3: \")\n",
    "X = autoenc3\n",
    "HierarchicalClustering(X, Y)"
   ]
  },
  {
   "cell_type": "markdown",
   "metadata": {},
   "source": [
    "# Question 2"
   ]
  },
  {
   "cell_type": "code",
   "execution_count": 26,
   "metadata": {},
   "outputs": [],
   "source": [
    "digits = load_digits()\n",
    "y_digs = digits.target\n",
    "X_digs = digits.data"
   ]
  },
  {
   "cell_type": "code",
   "execution_count": 27,
   "metadata": {},
   "outputs": [],
   "source": [
    "def get_normed_mean_cov(X):\n",
    "    X_std = StandardScaler().fit_transform(X)\n",
    "    X_mean = np.mean(X_std, axis=0)\n",
    "    \n",
    "    X_cov = np.cov(X_std.T)\n",
    "\n",
    "    return X_std, X_mean, X_cov\n",
    "\n",
    "X_std, X_mean, X_cov = get_normed_mean_cov(X_digs)"
   ]
  },
  {
   "cell_type": "markdown",
   "metadata": {},
   "source": [
    "## For first random number"
   ]
  },
  {
   "cell_type": "markdown",
   "metadata": {},
   "source": [
    "### KDE"
   ]
  },
  {
   "cell_type": "code",
   "execution_count": 28,
   "metadata": {},
   "outputs": [
    {
     "name": "stdout",
     "output_type": "stream",
     "text": [
      "(1797, 36)\n"
     ]
    }
   ],
   "source": [
    "n1 = np.random.randint(15, 41)\n",
    "y1 = np.array(y_digs)\n",
    "pca_data1 = PCA(n_components=n1)\n",
    "Xd1 = np.array(X_std)\n",
    "pcd = pca_data1.fit(Xd1).transform(X_std1)\n",
    "print(pcd.shape)"
   ]
  },
  {
   "cell_type": "code",
   "execution_count": 31,
   "metadata": {},
   "outputs": [
    {
     "name": "stdout",
     "output_type": "stream",
     "text": [
      "Bandwidth :  0.5263157894736836\n",
      "KernelDensity(algorithm='auto', atol=0, bandwidth=0.5263157894736836,\n",
      "       breadth_first=True, kernel='gaussian', leaf_size=40,\n",
      "       metric='euclidean', metric_params=None, rtol=0)\n"
     ]
    },
    {
     "name": "stderr",
     "output_type": "stream",
     "text": [
      "/anaconda3/lib/python3.7/site-packages/sklearn/model_selection/_search.py:841: DeprecationWarning: The default of the `iid` parameter will change from True to False in version 0.22 and will be removed in 0.24. This will change numeric results when test-set sizes are unequal.\n",
      "  DeprecationWarning)\n"
     ]
    }
   ],
   "source": [
    "tuned_parameters = [{'kernel': ['rbf'], 'gamma': [1e-3, 1e-4], 'C': [1, 10, 100, 500, 1000]}, {'kernel': ['linear'], 'C': [1, 10, 100, 500, 1000]}]\n",
    "bds = 10 * np.linspace(-1 , 1, 20)\n",
    "clf = GridSearchCV(KernelDensity(kernel='gaussian'), {'bandwidth': bds}, cv=5)\n",
    "clf.fit(pcd, y1)\n",
    "bdwidth = clf.best_params_['bandwidth']\n",
    "\n",
    "print(\"Bandwidth : \",bdwidth)\n",
    "kde = KernelDensity(kernel='gaussian', bandwidth=bdwidth)\n",
    "kde.fit(pcd)\n",
    "print(kde)"
   ]
  },
  {
   "cell_type": "markdown",
   "metadata": {},
   "source": [
    "### GMM"
   ]
  },
  {
   "cell_type": "code",
   "execution_count": 33,
   "metadata": {},
   "outputs": [
    {
     "name": "stdout",
     "output_type": "stream",
     "text": [
      "Optimal Number of Components for GMM = 6\n"
     ]
    }
   ],
   "source": [
    "n_comps = np.arange(1, 21)\n",
    "clf_gauss_models = [GaussianMixture(n_components=n, covariance_type='full').fit(pcd) for n in n_comps]\n",
    "bics = [m.bic(pcd) for m in clf_gauss_models]\n",
    "lbd = bics.index(min(bics))\n",
    "print(\"Optimal Number of Components for GMM =\", n_comps[lbd])"
   ]
  },
  {
   "cell_type": "markdown",
   "metadata": {},
   "source": [
    "### Data Generation Using Gaussian Density Estimator"
   ]
  },
  {
   "cell_type": "code",
   "execution_count": 37,
   "metadata": {},
   "outputs": [],
   "source": [
    "def plot_digits(data):\n",
    "    fig, ax = plt.subplots(10, 10, figsize=(8, 8),\n",
    "                           subplot_kw=dict(xticks=[], yticks=[]))\n",
    "    fig.subplots_adjust(hspace=0.05, wspace=0.05)\n",
    "    for i, axi in enumerate(ax.flat):\n",
    "        im = axi.imshow(data[i].reshape(8, 8), cmap='binary')\n",
    "        im.set_clim(0, 16)"
   ]
  },
  {
   "cell_type": "code",
   "execution_count": 34,
   "metadata": {},
   "outputs": [],
   "source": [
    "pca1 = PCA(n_components=n1, whiten=True)\n",
    "dt = pca1.fit_transform(digits.data)\n",
    "# print(dt.shape)"
   ]
  },
  {
   "cell_type": "code",
   "execution_count": 35,
   "metadata": {},
   "outputs": [
    {
     "data": {
      "text/plain": [
       "KernelDensity(algorithm='auto', atol=0, bandwidth=0.5263157894736836,\n",
       "       breadth_first=True, kernel='gaussian', leaf_size=40,\n",
       "       metric='euclidean', metric_params=None, rtol=0)"
      ]
     },
     "execution_count": 35,
     "metadata": {},
     "output_type": "execute_result"
    }
   ],
   "source": [
    "kde_model = KernelDensity(kernel='gaussian', bandwidth=bandwidth)\n",
    "kde_model.fit(dt)"
   ]
  },
  {
   "cell_type": "code",
   "execution_count": 38,
   "metadata": {},
   "outputs": [
    {
     "data": {
      "image/png": "[encoded data removed]",
      "text/plain": [
       "<Figure size 576x576 with 100 Axes>"
      ]
     },
     "metadata": {},
     "output_type": "display_data"
    }
   ],
   "source": [
    "d1new = kde_model.sample(n_samples=100, random_state=0)\n",
    "digits1k_new = pca1.inverse_transform(d1new)\n",
    "plot_digits(digits1k_new)"
   ]
  },
  {
   "cell_type": "code",
   "execution_count": 40,
   "metadata": {},
   "outputs": [
    {
     "name": "stdout",
     "output_type": "stream",
     "text": [
      "Optimal Number of Components for GMM = 170\n"
     ]
    }
   ],
   "source": [
    "n_comps = np.arange(50, 210, 10)\n",
    "clf_gauss_models = [GaussianMixture(n_components=n, covariance_type='full', random_state=0) for n in n_comps]\n",
    "aics = [model.fit(dt).aic(dt) for model in clf_gauss_models]\n",
    "lbd = aics.index(min(aics))\n",
    "print(\"Optimal Number of Components for GMM =\", n_comps[lbd])"
   ]
  },
  {
   "cell_type": "code",
   "execution_count": 44,
   "metadata": {},
   "outputs": [],
   "source": [
    "gmm_model = GaussianMixture(n_comps[lbd], covariance_type='full', random_state=0)\n",
    "gmm_model.fit(dt)\n",
    "X1_new, y1_new = gmm_model.sample(100)"
   ]
  },
  {
   "cell_type": "code",
   "execution_count": 45,
   "metadata": {},
   "outputs": [
    {
     "data": {
      "image/png": "[encoded data removed]",
      "text/plain": [
       "<Figure size 576x576 with 100 Axes>"
      ]
     },
     "metadata": {},
     "output_type": "display_data"
    }
   ],
   "source": [
    "digits2_new = pca1.inverse_transform(X1_new)\n",
    "plot_digits(digits2_new)"
   ]
  },
  {
   "cell_type": "markdown",
   "metadata": {},
   "source": [
    "## Second Random Number between 15 and 41"
   ]
  },
  {
   "cell_type": "markdown",
   "metadata": {},
   "source": [
    "### KDE"
   ]
  },
  {
   "cell_type": "code",
   "execution_count": 49,
   "metadata": {},
   "outputs": [
    {
     "name": "stdout",
     "output_type": "stream",
     "text": [
      "(1797, 26)\n"
     ]
    }
   ],
   "source": [
    "n1 = np.random.randint(15, 41)\n",
    "y1 = np.array(y_digs)\n",
    "pca_data1 = PCA(n_components=n1)\n",
    "Xd1 = np.array(X_std)\n",
    "pcd = pca_data1.fit(Xd1).transform(X_std1)\n",
    "print(pcd.shape)"
   ]
  },
  {
   "cell_type": "code",
   "execution_count": 50,
   "metadata": {},
   "outputs": [
    {
     "name": "stdout",
     "output_type": "stream",
     "text": [
      "Bandwidth :  0.5263157894736836\n",
      "KernelDensity(algorithm='auto', atol=0, bandwidth=0.5263157894736836,\n",
      "       breadth_first=True, kernel='gaussian', leaf_size=40,\n",
      "       metric='euclidean', metric_params=None, rtol=0)\n"
     ]
    },
    {
     "name": "stderr",
     "output_type": "stream",
     "text": [
      "/anaconda3/lib/python3.7/site-packages/sklearn/model_selection/_search.py:841: DeprecationWarning: The default of the `iid` parameter will change from True to False in version 0.22 and will be removed in 0.24. This will change numeric results when test-set sizes are unequal.\n",
      "  DeprecationWarning)\n"
     ]
    }
   ],
   "source": [
    "tuned_parameters = [{'kernel': ['rbf'], 'gamma': [1e-3, 1e-4], 'C': [1, 10, 100, 500, 1000]}, {'kernel': ['linear'], 'C': [1, 10, 100, 500, 1000]}]\n",
    "bds = 10 * np.linspace(-1 , 1, 20)\n",
    "clf = GridSearchCV(KernelDensity(kernel='gaussian'), {'bandwidth': bds}, cv=5)\n",
    "clf.fit(pcd, y1)\n",
    "bdwidth = clf.best_params_['bandwidth']\n",
    "\n",
    "print(\"Bandwidth : \",bdwidth)\n",
    "kde = KernelDensity(kernel='gaussian', bandwidth=bdwidth)\n",
    "kde.fit(pcd)\n",
    "print(kde)"
   ]
  },
  {
   "cell_type": "markdown",
   "metadata": {},
   "source": [
    "### GMM"
   ]
  },
  {
   "cell_type": "code",
   "execution_count": 51,
   "metadata": {},
   "outputs": [
    {
     "name": "stdout",
     "output_type": "stream",
     "text": [
      "Optimal Number of Components for GMM = 10\n"
     ]
    }
   ],
   "source": [
    "n_comps = np.arange(1, 21)\n",
    "clf_gauss_models = [GaussianMixture(n_components=n, covariance_type='full').fit(pcd) for n in n_comps]\n",
    "bics = [m.bic(pcd) for m in clf_gauss_models]\n",
    "lbd = bics.index(min(bics))\n",
    "print(\"Optimal Number of Components for GMM =\", n_comps[lbd])"
   ]
  },
  {
   "cell_type": "markdown",
   "metadata": {},
   "source": [
    "### Data Generation Using Gaussian Density Estimator"
   ]
  },
  {
   "cell_type": "code",
   "execution_count": 62,
   "metadata": {},
   "outputs": [],
   "source": [
    "pca1 = PCA(n_components=n1, whiten=True)\n",
    "dt = pca1.fit_transform(digits.data)\n",
    "# print(dt.shape)"
   ]
  },
  {
   "cell_type": "code",
   "execution_count": 63,
   "metadata": {},
   "outputs": [
    {
     "data": {
      "text/plain": [
       "KernelDensity(algorithm='auto', atol=0, bandwidth=0.5263157894736836,\n",
       "       breadth_first=True, kernel='gaussian', leaf_size=40,\n",
       "       metric='euclidean', metric_params=None, rtol=0)"
      ]
     },
     "execution_count": 63,
     "metadata": {},
     "output_type": "execute_result"
    }
   ],
   "source": [
    "kde_model = KernelDensity(kernel='gaussian', bandwidth=bandwidth)\n",
    "kde_model.fit(dt)"
   ]
  },
  {
   "cell_type": "code",
   "execution_count": 64,
   "metadata": {},
   "outputs": [
    {
     "data": {
      "image/png": "[encoded data removed]",
      "text/plain": [
       "<Figure size 576x576 with 100 Axes>"
      ]
     },
     "metadata": {},
     "output_type": "display_data"
    }
   ],
   "source": [
    "d1new = kde_model.sample(n_samples=100, random_state=0)\n",
    "digits1k_new = pca1.inverse_transform(d1new)\n",
    "plot_digits(digits1k_new)"
   ]
  },
  {
   "cell_type": "code",
   "execution_count": 65,
   "metadata": {},
   "outputs": [
    {
     "name": "stdout",
     "output_type": "stream",
     "text": [
      "Optimal Number of Components for GMM = 200\n"
     ]
    }
   ],
   "source": [
    "n_comps = np.arange(50, 210, 10)\n",
    "clf_gauss_models = [GaussianMixture(n_components=n, covariance_type='full', random_state=0) for n in n_comps]\n",
    "aics = [model.fit(dt).aic(dt) for model in clf_gauss_models]\n",
    "lbd = aics.index(min(aics))\n",
    "print(\"Optimal Number of Components for GMM =\", n_comps[lbd])"
   ]
  },
  {
   "cell_type": "code",
   "execution_count": 57,
   "metadata": {},
   "outputs": [],
   "source": [
    "gmm_model = GaussianMixture(n_comps[lbd], covariance_type='full', random_state=0)\n",
    "gmm_model.fit(dt)\n",
    "X1_new, y1_new = gmm_model.sample(100)"
   ]
  },
  {
   "cell_type": "code",
   "execution_count": 58,
   "metadata": {},
   "outputs": [
    {
     "data": {
      "image/png": "[encoded data removed]",
      "text/plain": [
       "<Figure size 576x576 with 100 Axes>"
      ]
     },
     "metadata": {},
     "output_type": "display_data"
    }
   ],
   "source": [
    "digits2_new = pca1.inverse_transform(X1_new)\n",
    "plot_digits(digits2_new)"
   ]
  },
  {
   "cell_type": "markdown",
   "metadata": {},
   "source": [
    "## Third Random Number between 15 and 41"
   ]
  },
  {
   "cell_type": "markdown",
   "metadata": {},
   "source": [
    "### KDE"
   ]
  },
  {
   "cell_type": "code",
   "execution_count": 59,
   "metadata": {},
   "outputs": [
    {
     "name": "stdout",
     "output_type": "stream",
     "text": [
      "(1797, 33)\n"
     ]
    }
   ],
   "source": [
    "n1 = np.random.randint(15, 41)\n",
    "y1 = np.array(y_digs)\n",
    "pca_data1 = PCA(n_components=n1)\n",
    "Xd1 = np.array(X_std)\n",
    "pcd = pca_data1.fit(Xd1).transform(X_std1)\n",
    "print(pcd.shape)"
   ]
  },
  {
   "cell_type": "code",
   "execution_count": 60,
   "metadata": {},
   "outputs": [
    {
     "name": "stdout",
     "output_type": "stream",
     "text": [
      "Bandwidth :  0.5263157894736836\n",
      "KernelDensity(algorithm='auto', atol=0, bandwidth=0.5263157894736836,\n",
      "       breadth_first=True, kernel='gaussian', leaf_size=40,\n",
      "       metric='euclidean', metric_params=None, rtol=0)\n"
     ]
    },
    {
     "name": "stderr",
     "output_type": "stream",
     "text": [
      "/anaconda3/lib/python3.7/site-packages/sklearn/model_selection/_search.py:841: DeprecationWarning: The default of the `iid` parameter will change from True to False in version 0.22 and will be removed in 0.24. This will change numeric results when test-set sizes are unequal.\n",
      "  DeprecationWarning)\n"
     ]
    }
   ],
   "source": [
    "tuned_parameters = [{'kernel': ['rbf'], 'gamma': [1e-3, 1e-4], 'C': [1, 10, 100, 500, 1000]}, {'kernel': ['linear'], 'C': [1, 10, 100, 500, 1000]}]\n",
    "bds = 10 * np.linspace(-1 , 1, 20)\n",
    "clf = GridSearchCV(KernelDensity(kernel='gaussian'), {'bandwidth': bds}, cv=5)\n",
    "clf.fit(pcd, y1)\n",
    "bdwidth = clf.best_params_['bandwidth']\n",
    "\n",
    "print(\"Bandwidth : \",bdwidth)\n",
    "kde = KernelDensity(kernel='gaussian', bandwidth=bdwidth)\n",
    "kde.fit(pcd)\n",
    "print(kde)"
   ]
  },
  {
   "cell_type": "markdown",
   "metadata": {},
   "source": [
    "### GMM"
   ]
  },
  {
   "cell_type": "code",
   "execution_count": 61,
   "metadata": {},
   "outputs": [
    {
     "name": "stdout",
     "output_type": "stream",
     "text": [
      "Optimal Number of Components for GMM = 7\n"
     ]
    }
   ],
   "source": [
    "n_comps = np.arange(1, 21)\n",
    "clf_gauss_models = [GaussianMixture(n_components=n, covariance_type='full').fit(pcd) for n in n_comps]\n",
    "bics = [m.bic(pcd) for m in clf_gauss_models]\n",
    "lbd = bics.index(min(bics))\n",
    "print(\"Optimal Number of Components for GMM =\", n_comps[lbd])"
   ]
  },
  {
   "cell_type": "markdown",
   "metadata": {},
   "source": [
    "### Data Generation Using Gaussian Density Estimator"
   ]
  },
  {
   "cell_type": "code",
   "execution_count": 66,
   "metadata": {},
   "outputs": [],
   "source": [
    "pca1 = PCA(n_components=n1, whiten=True)\n",
    "dt = pca1.fit_transform(digits.data)\n",
    "# print(dt.shape)"
   ]
  },
  {
   "cell_type": "code",
   "execution_count": 67,
   "metadata": {},
   "outputs": [
    {
     "data": {
      "text/plain": [
       "KernelDensity(algorithm='auto', atol=0, bandwidth=0.5263157894736836,\n",
       "       breadth_first=True, kernel='gaussian', leaf_size=40,\n",
       "       metric='euclidean', metric_params=None, rtol=0)"
      ]
     },
     "execution_count": 67,
     "metadata": {},
     "output_type": "execute_result"
    }
   ],
   "source": [
    "kde_model = KernelDensity(kernel='gaussian', bandwidth=bandwidth)\n",
    "kde_model.fit(dt)"
   ]
  },
  {
   "cell_type": "code",
   "execution_count": 68,
   "metadata": {},
   "outputs": [
    {
     "data": {
      "image/png": "[encoded data removed]",
      "text/plain": [
       "<Figure size 576x576 with 100 Axes>"
      ]
     },
     "metadata": {},
     "output_type": "display_data"
    }
   ],
   "source": [
    "d1new = kde_model.sample(n_samples=100, random_state=0)\n",
    "digits1k_new = pca1.inverse_transform(d1new)\n",
    "plot_digits(digits1k_new)"
   ]
  },
  {
   "cell_type": "code",
   "execution_count": 69,
   "metadata": {},
   "outputs": [
    {
     "name": "stdout",
     "output_type": "stream",
     "text": [
      "Optimal Number of Components for GMM = 200\n"
     ]
    }
   ],
   "source": [
    "n_comps = np.arange(50, 210, 10)\n",
    "clf_gauss_models = [GaussianMixture(n_components=n, covariance_type='full', random_state=0) for n in n_comps]\n",
    "aics = [model.fit(dt).aic(dt) for model in clf_gauss_models]\n",
    "lbd = aics.index(min(aics))\n",
    "print(\"Optimal Number of Components for GMM =\", n_comps[lbd])"
   ]
  },
  {
   "cell_type": "code",
   "execution_count": 70,
   "metadata": {},
   "outputs": [],
   "source": [
    "gmm_model = GaussianMixture(n_comps[lbd], covariance_type='full', random_state=0)\n",
    "gmm_model.fit(dt)\n",
    "X1_new, y1_new = gmm_model.sample(100)"
   ]
  },
  {
   "cell_type": "code",
   "execution_count": 71,
   "metadata": {},
   "outputs": [
    {
     "data": {
      "image/png": "[encoded data removed]",
      "text/plain": [
       "<Figure size 576x576 with 100 Axes>"
      ]
     },
     "metadata": {},
     "output_type": "display_data"
    }
   ],
   "source": [
    "digits2_new = pca1.inverse_transform(X1_new)\n",
    "plot_digits(digits2_new)"
   ]
  },
  {
   "cell_type": "markdown",
   "metadata": {},
   "source": [
    "In this part, while sampling 48 nearby points, the was an out of bound and IndexError. So, I sampled 100 points, and if we want the nearest 48 points, we can just take the initial 48 samples so that we get the nearest 48 samples."
   ]
  },
  {
   "cell_type": "markdown",
   "metadata": {},
   "source": [
    "Other than that, I have completely used the in-built functions for all my calculations and model building. I browsed through the internet and used all the library functions that are used for the given operations."
   ]
  }
 ],
 "metadata": {
  "kernelspec": {
   "display_name": "Python 3",
   "language": "python",
   "name": "python3"
  },
  "language_info": {
   "codemirror_mode": {
    "name": "ipython",
    "version": 3
   },
   "file_extension": ".py",
   "mimetype": "text/x-python",
   "name": "python",
   "nbconvert_exporter": "python",
   "pygments_lexer": "ipython3",
   "version": "3.7.1"
  }
 },
 "nbformat": 4,
 "nbformat_minor": 2
}
