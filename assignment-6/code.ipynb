{
 "cells": [
  {
   "cell_type": "code",
   "execution_count": 2,
   "metadata": {},
   "outputs": [],
   "source": [
    "import csv\n",
    "import random\n",
    "import math\n",
    "import numpy as np \n",
    "import operator\n",
    "import pandas as pd\n",
    "from sklearn.model_selection import train_test_split\n",
    "from scipy.spatial import distance\n",
    "from sklearn.metrics import confusion_matrix\n",
    "from collections import Counter\n",
    "from sklearn.metrics import accuracy_score, f1_score, precision_score,recall_score\n",
    "from collections import defaultdict\n",
    "from sklearn.mixture import GaussianMixture \n",
    "from sklearn.cluster import AgglomerativeClustering\n",
    "from numpy import linalg as LA\n",
    "from sklearn import metrics\n",
    "import matplotlib.pyplot as plt\n",
    "from matplotlib import style\n",
    "import re\n",
    "import seaborn as sns\n",
    "from scipy import optimize as op"
   ]
  },
  {
   "cell_type": "code",
   "execution_count": 10,
   "metadata": {},
   "outputs": [],
   "source": [
    "def normalize(X, axis=-1, order=2):\n",
    "    \"\"\" Normalize the dataset X \"\"\"\n",
    "    l2 = np.atleast_1d(np.linalg.norm(X, order, axis))\n",
    "    l2[l2 == 0] = 1\n",
    "    return X / np.expand_dims(l2, axis)"
   ]
  },
  {
   "cell_type": "code",
   "execution_count": 11,
   "metadata": {},
   "outputs": [],
   "source": [
    "class l1_regularization():\n",
    "    \"\"\" Regularization for Lasso Regression \"\"\"\n",
    "    def __init__(self, alpha):\n",
    "        self.alpha = alpha\n",
    "    \n",
    "    def __call__(self, w):\n",
    "        return self.alpha * np.linalg.norm(w)\n",
    "\n",
    "    def grad(self, w):\n",
    "        return self.alpha * np.sign(w)"
   ]
  },
  {
   "cell_type": "code",
   "execution_count": 12,
   "metadata": {},
   "outputs": [],
   "source": [
    "class l2_regularization():\n",
    "    \"\"\" Regularization for Ridge Regression \"\"\"\n",
    "    def __init__(self, alpha):\n",
    "        self.alpha = alpha\n",
    "    \n",
    "    def __call__(self, w):\n",
    "        return self.alpha * 0.5 *  w.T.dot(w)\n",
    "\n",
    "    def grad(self, w):\n",
    "        return self.alpha * w"
   ]
  },
  {
   "cell_type": "code",
   "execution_count": 13,
   "metadata": {},
   "outputs": [],
   "source": []
  },
  {
   "cell_type": "code",
   "execution_count": 185,
   "metadata": {},
   "outputs": [
    {
     "data": {
      "text/html": [
       "<div>\n",
       "<style scoped>\n",
       "    .dataframe tbody tr th:only-of-type {\n",
       "        vertical-align: middle;\n",
       "    }\n",
       "\n",
       "    .dataframe tbody tr th {\n",
       "        vertical-align: top;\n",
       "    }\n",
       "\n",
       "    .dataframe thead th {\n",
       "        text-align: right;\n",
       "    }\n",
       "</style>\n",
       "<table border=\"1\" class=\"dataframe\">\n",
       "  <thead>\n",
       "    <tr style=\"text-align: right;\">\n",
       "      <th></th>\n",
       "      <th>GRE Score</th>\n",
       "      <th>TOEFL Score</th>\n",
       "      <th>University Rating</th>\n",
       "      <th>SOP</th>\n",
       "      <th>LOR</th>\n",
       "      <th>CGPA</th>\n",
       "      <th>Research</th>\n",
       "      <th>Chance of Admit</th>\n",
       "    </tr>\n",
       "  </thead>\n",
       "  <tbody>\n",
       "    <tr>\n",
       "      <th>0</th>\n",
       "      <td>317</td>\n",
       "      <td>103</td>\n",
       "      <td>2</td>\n",
       "      <td>2.5</td>\n",
       "      <td>2.0</td>\n",
       "      <td>8.15</td>\n",
       "      <td>0</td>\n",
       "      <td>0.65</td>\n",
       "    </tr>\n",
       "    <tr>\n",
       "      <th>1</th>\n",
       "      <td>319</td>\n",
       "      <td>108</td>\n",
       "      <td>3</td>\n",
       "      <td>3.0</td>\n",
       "      <td>3.5</td>\n",
       "      <td>8.54</td>\n",
       "      <td>1</td>\n",
       "      <td>0.71</td>\n",
       "    </tr>\n",
       "    <tr>\n",
       "      <th>2</th>\n",
       "      <td>322</td>\n",
       "      <td>110</td>\n",
       "      <td>3</td>\n",
       "      <td>3.5</td>\n",
       "      <td>2.5</td>\n",
       "      <td>8.67</td>\n",
       "      <td>1</td>\n",
       "      <td>0.80</td>\n",
       "    </tr>\n",
       "    <tr>\n",
       "      <th>3</th>\n",
       "      <td>326</td>\n",
       "      <td>113</td>\n",
       "      <td>5</td>\n",
       "      <td>4.5</td>\n",
       "      <td>4.0</td>\n",
       "      <td>9.40</td>\n",
       "      <td>1</td>\n",
       "      <td>0.91</td>\n",
       "    </tr>\n",
       "    <tr>\n",
       "      <th>4</th>\n",
       "      <td>319</td>\n",
       "      <td>106</td>\n",
       "      <td>3</td>\n",
       "      <td>3.5</td>\n",
       "      <td>2.5</td>\n",
       "      <td>8.33</td>\n",
       "      <td>1</td>\n",
       "      <td>0.74</td>\n",
       "    </tr>\n",
       "  </tbody>\n",
       "</table>\n",
       "</div>"
      ],
      "text/plain": [
       "   GRE Score  TOEFL Score  University Rating  SOP  LOR   CGPA  Research  \\\n",
       "0        317          103                  2  2.5   2.0  8.15         0   \n",
       "1        319          108                  3  3.0   3.5  8.54         1   \n",
       "2        322          110                  3  3.5   2.5  8.67         1   \n",
       "3        326          113                  5  4.5   4.0  9.40         1   \n",
       "4        319          106                  3  3.5   2.5  8.33         1   \n",
       "\n",
       "   Chance of Admit  \n",
       "0             0.65  \n",
       "1             0.71  \n",
       "2             0.80  \n",
       "3             0.91  \n",
       "4             0.74  "
      ]
     },
     "execution_count": 185,
     "metadata": {},
     "output_type": "execute_result"
    }
   ],
   "source": [
    "df = pd.read_csv(\"AdmissionDataset/data.csv\")\n",
    "df.drop(columns={'Serial No.'}, inplace=True)\n",
    "df.head(5)"
   ]
  },
  {
   "cell_type": "code",
   "execution_count": 37,
   "metadata": {},
   "outputs": [],
   "source": [
    "def split_dataset(data,val):\n",
    "    X = data.loc[0:, data.columns != val]\n",
    "    Y = data.loc[0:, val]\n",
    "    X_train, X_test, Y_train, Y_test = train_test_split(  X, Y, test_size = 0.25,shuffle=True)\n",
    "    return X, Y, X_train, X_test, Y_train, Y_test"
   ]
  },
  {
   "cell_type": "code",
   "execution_count": 186,
   "metadata": {},
   "outputs": [],
   "source": [
    "X, Y, X_train, X_test, Y_train, Y_test = split_dataset(df,\"Chance of Admit\")"
   ]
  },
  {
   "cell_type": "code",
   "execution_count": 188,
   "metadata": {},
   "outputs": [],
   "source": [
    "from sklearn.preprocessing import StandardScaler\n",
    "standardScaler = StandardScaler()\n",
    "X = standardScaler.fit_transform(X)\n",
    "# X = np.matrix(ss_x.transform(X))"
   ]
  },
  {
   "cell_type": "code",
   "execution_count": 212,
   "metadata": {},
   "outputs": [
    {
     "name": "stdout",
     "output_type": "stream",
     "text": [
      "[0.58981818 0.02570138 0.02193521 0.01139701 0.00870036 0.01544221\n",
      " 0.0440418  0.01399533]\n"
     ]
    }
   ],
   "source": [
    "classifier = RidgeRegression(100)\n",
    "classifier.fit(X,Y)\n",
    "print(classifier.w)"
   ]
  },
  {
   "cell_type": "code",
   "execution_count": 213,
   "metadata": {},
   "outputs": [],
   "source": [
    "prediction = classifier.predict(X)\n"
   ]
  },
  {
   "cell_type": "code",
   "execution_count": 32,
   "metadata": {},
   "outputs": [
    {
     "ename": "NameError",
     "evalue": "name 'prediction' is not defined",
     "output_type": "error",
     "traceback": [
      "\u001b[0;31m---------------------------------------------------------------------------\u001b[0m",
      "\u001b[0;31mNameError\u001b[0m                                 Traceback (most recent call last)",
      "\u001b[0;32m<ipython-input-32-9e67d78f6437>\u001b[0m in \u001b[0;36m<module>\u001b[0;34m\u001b[0m\n\u001b[0;32m----> 1\u001b[0;31m \u001b[0;34m(\u001b[0m\u001b[0;34m(\u001b[0m\u001b[0mprediction\u001b[0m \u001b[0;34m-\u001b[0m \u001b[0mY\u001b[0m\u001b[0;34m)\u001b[0m\u001b[0;34m**\u001b[0m\u001b[0;36m2\u001b[0m\u001b[0;34m)\u001b[0m\u001b[0;34m.\u001b[0m\u001b[0mmean\u001b[0m\u001b[0;34m(\u001b[0m\u001b[0;34m)\u001b[0m\u001b[0;34m\u001b[0m\u001b[0;34m\u001b[0m\u001b[0m\n\u001b[0m",
      "\u001b[0;31mNameError\u001b[0m: name 'prediction' is not defined"
     ]
    }
   ],
   "source": [
    "((prediction - Y)**2).mean()"
   ]
  },
  {
   "cell_type": "markdown",
   "metadata": {},
   "source": [
    "## Ridge Regression"
   ]
  },
  {
   "cell_type": "code",
   "execution_count": 3,
   "metadata": {},
   "outputs": [],
   "source": [
    "def calculateCost(x,theta,Y):\n",
    "    prediction = np.dot(x,theta)\n",
    "    return ((prediction - Y)**2).mean()/2"
   ]
  },
  {
   "cell_type": "code",
   "execution_count": 88,
   "metadata": {},
   "outputs": [],
   "source": [
    "my_data = pd.read_csv(\"AdmissionDataset/data.csv\")\n",
    "my_data.drop(columns={'Serial No.'}, inplace=True)\n",
    "X = my_data.iloc[:,0:7]\n",
    "ones = np.ones([X.shape[0],1])\n",
    "X_b = np.concatenate((ones,X),axis=1)\n",
    "y = my_data.iloc[:,7:8]\n",
    "y = np.asarray(y)\n",
    "tt = X_b.T.dot(X_b)\n",
    "dim = tt.shape[0]\n",
    "ident = np.identity(dim)\n",
    "tmp = 0\n",
    "lamb = []\n",
    "cost = []\n",
    "while tmp < 10:\n",
    "    theta_best = np.linalg.inv(X_b.T.dot(X_b)+ tmp*ident).dot(X_b.T).dot(y)\n",
    "    cst = calculateCost(X_b,theta_best,y)\n",
    "    lamb.append(tmp)\n",
    "    cost.append(cst)\n",
    "    tmp = tmp + 0.0001"
   ]
  },
  {
   "cell_type": "code",
   "execution_count": 89,
   "metadata": {},
   "outputs": [
    {
     "data": {
      "text/plain": [
       "[<matplotlib.lines.Line2D at 0x1a202db8d0>]"
      ]
     },
     "execution_count": 89,
     "metadata": {},
     "output_type": "execute_result"
    },
    {
     "data": {
      "image/png": "[encoded data removed]",
      "text/plain": [
       "<Figure size 432x288 with 1 Axes>"
      ]
     },
     "metadata": {
      "needs_background": "light"
     },
     "output_type": "display_data"
    }
   ],
   "source": [
    "plt.plot(lamb,cost)"
   ]
  },
  {
   "cell_type": "markdown",
   "metadata": {},
   "source": [
    "## Lasso Regression"
   ]
  },
  {
   "cell_type": "code",
   "execution_count": 74,
   "metadata": {},
   "outputs": [],
   "source": [
    "def soft_thresholding_operator(self, x, lambda_):\n",
    "    if x > 0.0 and lambda_ < abs(x):\n",
    "        return x - lambda_\n",
    "    elif x < 0.0 and lambda_ < abs(x):\n",
    "        return x + lambda_\n",
    "    else:\n",
    "        return 0.0\n",
    "\n",
    "def lasso_regression(X, y, alpha = 0.1, max_iter= 1000, fit_intercept= True, lambda_ = 1):\n",
    "    if fit_intercept:\n",
    "        X = np.column_stack((np.ones(len(X)),X))\n",
    "\n",
    "    beta = np.zeros(X.shape[1])\n",
    "    if fit_intercept:\n",
    "        beta[0] = np.sum(y - np.dot(X[:, 1:], beta[1:]))/(X.shape[0])\n",
    "\n",
    "    for iteration in range(max_iter):\n",
    "        start = 1 if fit_intercept else 0\n",
    "        for j in range(start, len(beta)):\n",
    "            tmp_beta = beta.copy()\n",
    "            tmp_beta[j] = 0.0\n",
    "            r_j = y - np.dot(X, tmp_beta)\n",
    "            arg1 = np.dot(X[:, j], r_j)\n",
    "            arg2 = alpha*X.shape[0]\n",
    "\n",
    "            beta[j] = soft_thresholding_operator(arg1, arg2, lambda_)/(X[:, j]**2).sum()\n",
    "\n",
    "            if fit_intercept:\n",
    "                beta[0] = np.sum(y - np.dot(X[:, 1:], beta[1:]))/(X.shape[0])\n",
    "\n",
    "    if fit_intercept:\n",
    "        intercept_ = beta[0]\n",
    "        coef_ = beta[1:]\n",
    "    else:\n",
    "        coef_ = beta\n",
    "\n",
    "    return coef_"
   ]
  },
  {
   "cell_type": "code",
   "execution_count": 75,
   "metadata": {},
   "outputs": [
    {
     "data": {
      "text/plain": [
       "array([9.74589009e-07, 8.48769525e-06, 8.83002208e-03, 7.96127923e-03,\n",
       "       7.59340754e-03, 1.32250500e-03, 1.76706827e-01])"
      ]
     },
     "execution_count": 75,
     "metadata": {},
     "output_type": "execute_result"
    }
   ],
   "source": [
    "my_data = pd.read_csv(\"AdmissionDataset/data.csv\")\n",
    "my_data.drop(columns={'Serial No.'}, inplace=True)\n",
    "X = my_data.iloc[:,0:7]\n",
    "y = my_data.iloc[:,7:8]\n",
    "y = np.asarray(y)\n",
    "lasso_regression(X,y)"
   ]
  },
  {
   "cell_type": "code",
   "execution_count": 79,
   "metadata": {},
   "outputs": [
    {
     "name": "stdout",
     "output_type": "stream",
     "text": [
      "1\n",
      "2\n",
      "3\n",
      "4\n",
      "5\n",
      "6\n",
      "7\n",
      "8\n",
      "9\n",
      "10\n"
     ]
    }
   ],
   "source": [
    "tmp = 0\n",
    "lamb = []\n",
    "cost = []\n",
    "while tmp < 10:\n",
    "    lasso_regression(X,y,lambda_ = tmp)\n",
    "    ones = np.ones([X.shape[0],1])\n",
    "    X_b = np.concatenate((ones,X),axis=1)\n",
    "    cst = calculateCost(X_b,theta_best,y)\n",
    "    lamb.append(tmp)\n",
    "    cost.append(cst)\n",
    "    tmp = tmp + 1"
   ]
  },
  {
   "cell_type": "code",
   "execution_count": 57,
   "metadata": {},
   "outputs": [],
   "source": [
    "def soft_threshold(rho,lamda):\n",
    "    if rho < - lamda:\n",
    "        return (rho + lamda)\n",
    "    elif rho >  lamda:\n",
    "        return (rho - lamda)\n",
    "    else: \n",
    "        return 0\n",
    "    \n",
    "\n",
    "def coordinate_descent_lasso(theta,X,y,lamda = .01, num_iters=100, intercept = False):\n",
    "    m,n = X.shape\n",
    "    X = X / (np.linalg.norm(X,axis = 0)) #normalizing X in case it was not done before\n",
    "    \n",
    "    for i in range(num_iters): \n",
    "        \n",
    "        for j in range(n):\n",
    "            \n",
    "            #Vectorized implementation\n",
    "            X_j = X[:,j].reshape(-1,1)\n",
    "            y_pred = X @ theta\n",
    "            rho = X_j.T @ (y - y_pred  + theta[j]*X_j)\n",
    "        \n",
    "            #Checking intercept parameter\n",
    "            if intercept == True:  \n",
    "                if j == 0: \n",
    "                    theta[j] =  rho \n",
    "                else:\n",
    "                    theta[j] =  soft_threshold(rho, lamda)  \n",
    "\n",
    "            if intercept == False:\n",
    "                theta[j] =  soft_threshold(rho, lamda)   \n",
    "            \n",
    "    return theta.flatten()"
   ]
  },
  {
   "cell_type": "code",
   "execution_count": 65,
   "metadata": {},
   "outputs": [],
   "source": [
    "# Initialize variables\n",
    "m,n = X.shape\n",
    "initial_theta = np.ones((n,1))\n",
    "theta_list = list()\n",
    "lamb = []\n",
    "cost = []\n",
    "lamda = np.logspace(0,4,300)/10 #Range of lambda values\n",
    "\n",
    "tmp = 0\n",
    "#Run lasso regression for each lambda\n",
    "while tmp < 1:\n",
    "    print(tmp)\n",
    "    theta = coordinate_descent_lasso(initial_theta,X,y,lamda = tmp, num_iters=100)\n",
    "    theta_list.append(theta)\n",
    "    lamb.append(tmp)\n",
    "    cst = calculateCost(X,theta,y)\n",
    "    cost.append(cst)\n",
    "    tmp = tmp + 0.001"
   ]
  },
  {
   "cell_type": "code",
   "execution_count": 87,
   "metadata": {},
   "outputs": [
    {
     "data": {
      "image/png": "[encoded data removed]",
      "text/plain": [
       "<Figure size 432x288 with 1 Axes>"
      ]
     },
     "metadata": {
      "needs_background": "light"
     },
     "output_type": "display_data"
    }
   ],
   "source": [
    "def load_file(filename):\n",
    "    train_data, test_data = [], []\n",
    "    dataset = []\n",
    "    with open(filename) as csvfile:\n",
    "        lines = csv.reader(csvfile)\n",
    "        dataset = np.array(list(lines))\n",
    "\n",
    "    dataset = np.array(dataset[1:, :], dtype=float)\n",
    "\n",
    "    np.random.shuffle(dataset)\n",
    "\n",
    "    train_size = int(0.8 * len(dataset))\n",
    "    train_data = dataset[:train_size, :]\n",
    "    train_data = np.array(train_data)\n",
    "    test_data = dataset[train_size:, :]\n",
    "    test_data = np.array(test_data)\n",
    "\n",
    "    return train_data, test_data\n",
    "\n",
    "def classifyXY(data):\n",
    "    X = data[:, :-1]\n",
    "    Y = data[:, -1]\n",
    "    return X, Y\n",
    "\n",
    "def normalizeData(data):\n",
    "    mean = np.ones(data.shape[1])\n",
    "    std = np.ones(data.shape[1])\n",
    "\n",
    "    for i in range(0, data.shape[1]):\n",
    "        mean[i] = np.mean(data.transpose()[i])\n",
    "        std[i] = np.std(data.transpose()[i])\n",
    "        for j in range(0, data.shape[0]):\n",
    "            data[j][i] = (data[j][i] - mean[i])/std[i]\n",
    "\n",
    "    return data\n",
    "\n",
    "def hypothesis(theta, X, n):\n",
    "    h = np.ones((X.shape[0],1))\n",
    "    theta = theta.reshape(1,n+1)\n",
    "    h = np.dot(theta, X.T)\n",
    "    h = h.reshape(X.shape[0])\n",
    "    return h\n",
    "\n",
    "def BGD(theta, alpha, num_iters, h, X, y, n, lamb):\n",
    "    cost = np.ones(num_iters)\n",
    "    i = 0\n",
    "    while i < num_iters:\n",
    "        theta[0] = theta[0] - (alpha/(2*X.shape[0])) * sum(h - y)\n",
    "        theta = theta - (alpha / (2 * X.shape[0])) * np.sum(np.dot((h - y), X) + lamb * np.sign(theta))\n",
    "        h = hypothesis(theta, X, n)\n",
    "        cost[i] = (1/X.shape[0]) * 0.5 * sum(np.square(h - y) + lamb * np.sum(np.absolute(theta)))\n",
    "        i = i + 1\n",
    "    theta = theta.reshape(1,n+1)\n",
    "    return theta, cost\n",
    "\n",
    "def linear_regression(X, y, alpha, num_iters, lamb):\n",
    "    n = X.shape[1]\n",
    "    one_column = np.ones((X.shape[0],1))\n",
    "    X = np.concatenate((one_column, X), axis=1)\n",
    "    theta = np.zeros(n+1)\n",
    "    h = hypothesis(theta, X, n)\n",
    "    theta, cost = BGD(theta,alpha,num_iters,h,X,y,n,lamb)\n",
    "    return theta, cost\n",
    "\n",
    "def classifier():\n",
    "    filename = \"AdmissionDataset/data.csv\"\n",
    "    train_data, test_data = load_file(filename)\n",
    "\n",
    "    X_train, y_train = classifyXY(train_data)\n",
    "    X_test, y_test = classifyXY(test_data)\n",
    "\n",
    "    X_train = normalizeData(X_train)\n",
    "    X_test = normalizeData(X_test)\n",
    "\n",
    "    ones = np.ones((X_test.shape[0],1))\n",
    "    X_test = np.concatenate((ones, X_test), axis=1)\n",
    "\n",
    "    num_iters, alpha = 20000, 0.001\n",
    "\n",
    "    lambs = np.linspace(0, 1, 11)\n",
    "\n",
    "    errors = []\n",
    "\n",
    "    for lamb in lambs:\n",
    "        theta, cost = linear_regression(X_train, y_train, alpha, num_iters, lamb)\n",
    "\n",
    "        predictions = hypothesis(theta, X_test, X_test.shape[1]-1)\n",
    "\n",
    "        finalCost_mse = (1/X_test.shape[0]) * 0.5 * sum(np.square(predictions - y_test))\n",
    "\n",
    "        errors.append(finalCost_mse)\n",
    "classifier()"
   ]
  },
  {
   "cell_type": "markdown",
   "metadata": {},
   "source": [
    "## K fold\n"
   ]
  },
  {
   "cell_type": "code",
   "execution_count": 118,
   "metadata": {},
   "outputs": [],
   "source": [
    "def kfold(k, inp_data):\n",
    "    err_arr_K_fold = []\n",
    "    for i in range(k):\n",
    "        \n",
    "        size = inp_data.shape[0]\n",
    "        stride = int(size/k)\n",
    "        tmp2 = inp_data[stride*(i+1) + 1:, :]\n",
    "        tmp1 = inp_data[0:(stride*i), :]\n",
    "        \n",
    "        test_data = inp_data[(stride*i):stride*(i+1), :]\n",
    "\n",
    "        if(tmp1.shape[0] != 0 and tmp1.shape[0] != 0):\n",
    "            train_data = np.vstack((tmp1, tmp2))\n",
    "        elif(tmp1.shape[0] != 0):\n",
    "            train_data = tmp1\n",
    "        elif(tmp2.shape[0] != 0):\n",
    "            train_data = tmp2\n",
    "            \n",
    "        X = train_data[:, :-1]\n",
    "        y = train_data[:, -1]\n",
    "        ones = np.ones([X.shape[0],1])\n",
    "        X_b = np.concatenate((ones,X),axis=1)\n",
    "        \n",
    "        tt = X_b.T.dot(X_b)\n",
    "        dim = tt.shape[0]\n",
    "        ident = np.identity(dim)\n",
    "        tmp = 0.01\n",
    "        \n",
    "        theta_best = np.linalg.inv(X_b.T.dot(X_b)+ tmp*ident).dot(X_b.T).dot(y)\n",
    "        cst = calculateCost(X_b,theta_best,y)\n",
    "        \n",
    "        err_arr_K_fold.append(cst)\n",
    "    return np.mean(np.asarray(err_arr_K_fold))"
   ]
  },
  {
   "cell_type": "code",
   "execution_count": 119,
   "metadata": {},
   "outputs": [
    {
     "data": {
      "text/plain": [
       "0.0018146686104253333"
      ]
     },
     "execution_count": 119,
     "metadata": {},
     "output_type": "execute_result"
    }
   ],
   "source": [
    "my_data = pd.read_csv(\"AdmissionDataset/data.csv\")\n",
    "my_data.drop(columns={'Serial No.'}, inplace=True)\n",
    "my_data = np.asarray(my_data)\n",
    "kfold(10,my_data)"
   ]
  },
  {
   "cell_type": "markdown",
   "metadata": {},
   "source": [
    "## Leave one out"
   ]
  },
  {
   "cell_type": "code",
   "execution_count": 116,
   "metadata": {},
   "outputs": [],
   "source": [
    "def leave_one_out(k, inp_data):\n",
    "    err_arr_K_fold = []\n",
    "    for i in range(k):\n",
    "        \n",
    "        size = inp_data.shape[0]\n",
    "        stride = int(size/k)\n",
    "        tmp2 = inp_data[stride*(i+1) + 1:, :]\n",
    "        tmp1 = inp_data[0:(stride*i), :]\n",
    "        \n",
    "        test_data = inp_data[(stride*i):stride*(i+1), :]\n",
    "\n",
    "        if(tmp1.shape[0] != 0 and tmp1.shape[0] != 0):\n",
    "            train_data = np.vstack((tmp1, tmp2))\n",
    "        elif(tmp1.shape[0] != 0):\n",
    "            train_data = tmp1\n",
    "        elif(tmp2.shape[0] != 0):\n",
    "            train_data = tmp2\n",
    "            \n",
    "        X = train_data[:, :-1]\n",
    "        y = train_data[:, -1]\n",
    "        ones = np.ones([X.shape[0],1])\n",
    "        X_b = np.concatenate((ones,X),axis=1)\n",
    "        \n",
    "        tt = X_b.T.dot(X_b)\n",
    "        dim = tt.shape[0]\n",
    "        ident = np.identity(dim)\n",
    "        tmp = 0.01\n",
    "        \n",
    "        theta_best = np.linalg.inv(X_b.T.dot(X_b)+ tmp*ident).dot(X_b.T).dot(y)\n",
    "        cst = calculateCost(X_b,theta_best,y)\n",
    "        \n",
    "        err_arr_K_fold.append(cst)\n",
    "    return np.mean(np.asarray(err_arr_K_fold))"
   ]
  },
  {
   "cell_type": "code",
   "execution_count": 117,
   "metadata": {},
   "outputs": [
    {
     "data": {
      "text/plain": [
       "0.0018229976387770376"
      ]
     },
     "execution_count": 117,
     "metadata": {},
     "output_type": "execute_result"
    }
   ],
   "source": [
    "my_data = pd.read_csv(\"AdmissionDataset/data.csv\")\n",
    "my_data.drop(columns={'Serial No.'}, inplace=True)\n",
    "my_data = np.asarray(my_data)\n",
    "leave_one_out(my_data.shape[0]-1,my_data)"
   ]
  }
 ],
 "metadata": {
  "kernelspec": {
   "display_name": "Python 3",
   "language": "python",
   "name": "python3"
  },
  "language_info": {
   "codemirror_mode": {
    "name": "ipython",
    "version": 3
   },
   "file_extension": ".py",
   "mimetype": "text/x-python",
   "name": "python",
   "nbconvert_exporter": "python",
   "pygments_lexer": "ipython3",
   "version": "3.7.1"
  }
 },
 "nbformat": 4,
 "nbformat_minor": 2
}
